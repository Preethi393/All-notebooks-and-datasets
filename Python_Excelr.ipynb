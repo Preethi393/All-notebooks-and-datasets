{
 "cells": [
  {
   "cell_type": "code",
   "execution_count": 1,
   "id": "e0a0471c",
   "metadata": {
    "ExecuteTime": {
     "end_time": "2023-08-11T07:06:40.133646Z",
     "start_time": "2023-08-11T07:06:40.122795Z"
    }
   },
   "outputs": [],
   "source": [
    "msg = 'HeLLo, welcome to my world'"
   ]
  },
  {
   "cell_type": "code",
   "execution_count": 2,
   "id": "ea91615f",
   "metadata": {
    "ExecuteTime": {
     "end_time": "2023-08-11T07:06:40.147702Z",
     "start_time": "2023-08-11T07:06:40.137783Z"
    }
   },
   "outputs": [
    {
     "data": {
      "text/plain": [
       "26"
      ]
     },
     "execution_count": 2,
     "metadata": {},
     "output_type": "execute_result"
    }
   ],
   "source": [
    "len(msg)"
   ]
  },
  {
   "cell_type": "code",
   "execution_count": 3,
   "id": "83e54f77",
   "metadata": {
    "ExecuteTime": {
     "end_time": "2023-08-11T07:06:40.156199Z",
     "start_time": "2023-08-11T07:06:40.150275Z"
    }
   },
   "outputs": [
    {
     "data": {
      "text/plain": [
       "' world'"
      ]
     },
     "execution_count": 3,
     "metadata": {},
     "output_type": "execute_result"
    }
   ],
   "source": [
    "msg[20:]"
   ]
  },
  {
   "cell_type": "code",
   "execution_count": 4,
   "id": "cad8bc92",
   "metadata": {
    "ExecuteTime": {
     "end_time": "2023-08-11T07:06:40.165688Z",
     "start_time": "2023-08-11T07:06:40.160074Z"
    }
   },
   "outputs": [
    {
     "data": {
      "text/plain": [
       "'eLLo, welcome to my world'"
      ]
     },
     "execution_count": 4,
     "metadata": {},
     "output_type": "execute_result"
    }
   ],
   "source": [
    "msg.removeprefix('H')"
   ]
  },
  {
   "cell_type": "code",
   "execution_count": 5,
   "id": "3880b4a1",
   "metadata": {
    "ExecuteTime": {
     "end_time": "2023-08-11T07:06:40.173053Z",
     "start_time": "2023-08-11T07:06:40.168162Z"
    }
   },
   "outputs": [
    {
     "data": {
      "text/plain": [
       "'HeLLo, welcome to my world9'"
      ]
     },
     "execution_count": 5,
     "metadata": {},
     "output_type": "execute_result"
    }
   ],
   "source": [
    "msg + '9'"
   ]
  },
  {
   "cell_type": "code",
   "execution_count": 6,
   "id": "ae5f0973",
   "metadata": {
    "ExecuteTime": {
     "end_time": "2023-08-11T07:06:40.179943Z",
     "start_time": "2023-08-11T07:06:40.175215Z"
    }
   },
   "outputs": [],
   "source": [
    "num = 36"
   ]
  },
  {
   "cell_type": "code",
   "execution_count": 7,
   "id": "0db4ff2f",
   "metadata": {
    "ExecuteTime": {
     "end_time": "2023-08-11T07:06:40.187838Z",
     "start_time": "2023-08-11T07:06:40.181895Z"
    }
   },
   "outputs": [],
   "source": [
    "s = 'python'"
   ]
  },
  {
   "cell_type": "code",
   "execution_count": 8,
   "id": "88ad3a80",
   "metadata": {
    "ExecuteTime": {
     "end_time": "2023-08-11T07:06:40.197084Z",
     "start_time": "2023-08-11T07:06:40.191358Z"
    }
   },
   "outputs": [
    {
     "data": {
      "text/plain": [
       "int"
      ]
     },
     "execution_count": 8,
     "metadata": {},
     "output_type": "execute_result"
    }
   ],
   "source": [
    "type(num)"
   ]
  },
  {
   "cell_type": "code",
   "execution_count": 9,
   "id": "ca0bdc1e",
   "metadata": {
    "ExecuteTime": {
     "end_time": "2023-08-11T07:06:40.204371Z",
     "start_time": "2023-08-11T07:06:40.199212Z"
    }
   },
   "outputs": [],
   "source": [
    "num = str(num)"
   ]
  },
  {
   "cell_type": "code",
   "execution_count": 10,
   "id": "96d9b198",
   "metadata": {
    "ExecuteTime": {
     "end_time": "2023-08-11T07:06:40.213020Z",
     "start_time": "2023-08-11T07:06:40.206691Z"
    }
   },
   "outputs": [
    {
     "data": {
      "text/plain": [
       "str"
      ]
     },
     "execution_count": 10,
     "metadata": {},
     "output_type": "execute_result"
    }
   ],
   "source": [
    "type(num)"
   ]
  },
  {
   "cell_type": "code",
   "execution_count": 11,
   "id": "42b0e895",
   "metadata": {
    "ExecuteTime": {
     "end_time": "2023-08-11T07:06:40.220454Z",
     "start_time": "2023-08-11T07:06:40.215023Z"
    }
   },
   "outputs": [
    {
     "data": {
      "text/plain": [
       "'python36'"
      ]
     },
     "execution_count": 11,
     "metadata": {},
     "output_type": "execute_result"
    }
   ],
   "source": [
    "s + num"
   ]
  },
  {
   "cell_type": "code",
   "execution_count": 12,
   "id": "8b0aea2e",
   "metadata": {
    "ExecuteTime": {
     "end_time": "2023-08-11T07:06:40.228515Z",
     "start_time": "2023-08-11T07:06:40.222679Z"
    }
   },
   "outputs": [
    {
     "data": {
      "text/plain": [
       "'nohtyp'"
      ]
     },
     "execution_count": 12,
     "metadata": {},
     "output_type": "execute_result"
    }
   ],
   "source": [
    "s[::-1]"
   ]
  },
  {
   "cell_type": "markdown",
   "id": "7159aa7a",
   "metadata": {
    "ExecuteTime": {
     "end_time": "2023-07-01T06:12:12.699359Z",
     "start_time": "2023-07-01T06:12:12.696876Z"
    }
   },
   "source": [
    "## LISTS\n",
    "\n",
    "- Lists are ordered collection of items i.e any datatypes\n",
    "- Mutable and use square brackets [ ]"
   ]
  },
  {
   "cell_type": "code",
   "execution_count": 13,
   "id": "95a06065",
   "metadata": {
    "ExecuteTime": {
     "end_time": "2023-08-11T07:06:40.234696Z",
     "start_time": "2023-08-11T07:06:40.231930Z"
    }
   },
   "outputs": [],
   "source": [
    "lang = ['C', 'C++', 'Java', 'Python']"
   ]
  },
  {
   "cell_type": "code",
   "execution_count": 14,
   "id": "bc7ae265",
   "metadata": {
    "ExecuteTime": {
     "end_time": "2023-08-11T07:06:40.243677Z",
     "start_time": "2023-08-11T07:06:40.236619Z"
    }
   },
   "outputs": [
    {
     "data": {
      "text/plain": [
       "'t'"
      ]
     },
     "execution_count": 14,
     "metadata": {},
     "output_type": "execute_result"
    }
   ],
   "source": [
    "lang[3][2]"
   ]
  },
  {
   "cell_type": "code",
   "execution_count": 15,
   "id": "5bd4ec38",
   "metadata": {
    "ExecuteTime": {
     "end_time": "2023-08-11T07:06:40.253301Z",
     "start_time": "2023-08-11T07:06:40.245690Z"
    }
   },
   "outputs": [
    {
     "data": {
      "text/plain": [
       "'python'"
      ]
     },
     "execution_count": 15,
     "metadata": {},
     "output_type": "execute_result"
    }
   ],
   "source": [
    "lang[3].lower()"
   ]
  },
  {
   "cell_type": "code",
   "execution_count": 16,
   "id": "b564f463",
   "metadata": {
    "ExecuteTime": {
     "end_time": "2023-08-11T07:06:40.263008Z",
     "start_time": "2023-08-11T07:06:40.255500Z"
    }
   },
   "outputs": [
    {
     "data": {
      "text/plain": [
       "[]"
      ]
     },
     "execution_count": 16,
     "metadata": {},
     "output_type": "execute_result"
    }
   ],
   "source": [
    "lang[1:-3]"
   ]
  },
  {
   "cell_type": "code",
   "execution_count": 17,
   "id": "de8d5726",
   "metadata": {
    "ExecuteTime": {
     "end_time": "2023-08-11T07:06:40.272419Z",
     "start_time": "2023-08-11T07:06:40.266338Z"
    }
   },
   "outputs": [
    {
     "data": {
      "text/plain": [
       "['C', 'C++', 'Java']"
      ]
     },
     "execution_count": 17,
     "metadata": {},
     "output_type": "execute_result"
    }
   ],
   "source": [
    "lang[-4:-1]"
   ]
  },
  {
   "cell_type": "code",
   "execution_count": 18,
   "id": "8fdb211b",
   "metadata": {
    "ExecuteTime": {
     "end_time": "2023-08-11T07:06:40.280987Z",
     "start_time": "2023-08-11T07:06:40.275064Z"
    }
   },
   "outputs": [
    {
     "data": {
      "text/plain": [
       "['C', 'C++', 'Java', 'Python']"
      ]
     },
     "execution_count": 18,
     "metadata": {},
     "output_type": "execute_result"
    }
   ],
   "source": [
    "lang"
   ]
  },
  {
   "cell_type": "code",
   "execution_count": 19,
   "id": "b9211a9c",
   "metadata": {
    "ExecuteTime": {
     "end_time": "2023-08-11T07:06:40.291143Z",
     "start_time": "2023-08-11T07:06:40.284618Z"
    }
   },
   "outputs": [],
   "source": [
    "lang.append('Perl')"
   ]
  },
  {
   "cell_type": "code",
   "execution_count": 20,
   "id": "6ab0adb1",
   "metadata": {
    "ExecuteTime": {
     "end_time": "2023-08-11T07:06:40.301793Z",
     "start_time": "2023-08-11T07:06:40.294414Z"
    }
   },
   "outputs": [
    {
     "data": {
      "text/plain": [
       "['C', 'C++', 'Java', 'Python', 'Perl']"
      ]
     },
     "execution_count": 20,
     "metadata": {},
     "output_type": "execute_result"
    }
   ],
   "source": [
    "lang"
   ]
  },
  {
   "cell_type": "code",
   "execution_count": 21,
   "id": "f9da7cc8",
   "metadata": {
    "ExecuteTime": {
     "end_time": "2023-08-11T07:06:40.310745Z",
     "start_time": "2023-08-11T07:06:40.305402Z"
    }
   },
   "outputs": [
    {
     "data": {
      "text/plain": [
       "['C', 'C++', 'Java', 'Python', 'Perl', 'ABC']"
      ]
     },
     "execution_count": 21,
     "metadata": {},
     "output_type": "execute_result"
    }
   ],
   "source": [
    "lang.insert(5, 'ABC')\n",
    "lang"
   ]
  },
  {
   "cell_type": "code",
   "execution_count": 22,
   "id": "74ec9e6d",
   "metadata": {
    "ExecuteTime": {
     "end_time": "2023-08-11T07:06:40.322653Z",
     "start_time": "2023-08-11T07:06:40.317348Z"
    }
   },
   "outputs": [
    {
     "data": {
      "text/plain": [
       "['C', 'C++', 'Java', 'Python', 'Perl']"
      ]
     },
     "execution_count": 22,
     "metadata": {},
     "output_type": "execute_result"
    }
   ],
   "source": [
    "lang.remove('ABC')\n",
    "lang"
   ]
  },
  {
   "cell_type": "code",
   "execution_count": 23,
   "id": "ddb0dc06",
   "metadata": {
    "ExecuteTime": {
     "end_time": "2023-08-11T07:06:40.330682Z",
     "start_time": "2023-08-11T07:06:40.325788Z"
    }
   },
   "outputs": [
    {
     "data": {
      "text/plain": [
       "'Perl'"
      ]
     },
     "execution_count": 23,
     "metadata": {},
     "output_type": "execute_result"
    }
   ],
   "source": [
    "lang.pop()"
   ]
  },
  {
   "cell_type": "code",
   "execution_count": 24,
   "id": "dd61f270",
   "metadata": {
    "ExecuteTime": {
     "end_time": "2023-08-11T07:06:40.339903Z",
     "start_time": "2023-08-11T07:06:40.333669Z"
    }
   },
   "outputs": [
    {
     "data": {
      "text/plain": [
       "['C', 'C++', 'Java', 'Python']"
      ]
     },
     "execution_count": 24,
     "metadata": {},
     "output_type": "execute_result"
    }
   ],
   "source": [
    "lang"
   ]
  },
  {
   "cell_type": "code",
   "execution_count": 25,
   "id": "029ddd5e",
   "metadata": {
    "ExecuteTime": {
     "end_time": "2023-08-11T07:06:40.346236Z",
     "start_time": "2023-08-11T07:06:40.342494Z"
    }
   },
   "outputs": [],
   "source": [
    "lang.insert(0, 'C')"
   ]
  },
  {
   "cell_type": "code",
   "execution_count": 26,
   "id": "f1ef8036",
   "metadata": {
    "ExecuteTime": {
     "end_time": "2023-08-11T07:06:40.355555Z",
     "start_time": "2023-08-11T07:06:40.351472Z"
    }
   },
   "outputs": [
    {
     "data": {
      "text/plain": [
       "['C', 'C', 'C++', 'Java', 'Python']"
      ]
     },
     "execution_count": 26,
     "metadata": {},
     "output_type": "execute_result"
    }
   ],
   "source": [
    "lang"
   ]
  },
  {
   "cell_type": "code",
   "execution_count": 27,
   "id": "fcb30ce3",
   "metadata": {
    "ExecuteTime": {
     "end_time": "2023-08-11T07:06:40.364731Z",
     "start_time": "2023-08-11T07:06:40.357418Z"
    }
   },
   "outputs": [
    {
     "data": {
      "text/plain": [
       "['C', 'C++', 'Java', 'Python']"
      ]
     },
     "execution_count": 27,
     "metadata": {},
     "output_type": "execute_result"
    }
   ],
   "source": [
    "lang.pop(1)\n",
    "lang"
   ]
  },
  {
   "cell_type": "code",
   "execution_count": 28,
   "id": "e8e9165b",
   "metadata": {
    "ExecuteTime": {
     "end_time": "2023-08-11T07:06:40.372442Z",
     "start_time": "2023-08-11T07:06:40.366683Z"
    }
   },
   "outputs": [
    {
     "data": {
      "text/plain": [
       "['C', 'C++', 'Java', 'Python']"
      ]
     },
     "execution_count": 28,
     "metadata": {},
     "output_type": "execute_result"
    }
   ],
   "source": [
    "lang"
   ]
  },
  {
   "cell_type": "code",
   "execution_count": 29,
   "id": "4e15e4f0",
   "metadata": {
    "ExecuteTime": {
     "end_time": "2023-08-11T07:06:40.380390Z",
     "start_time": "2023-08-11T07:06:40.375079Z"
    }
   },
   "outputs": [
    {
     "data": {
      "text/plain": [
       "['Python', 'Java', 'C++', 'C']"
      ]
     },
     "execution_count": 29,
     "metadata": {},
     "output_type": "execute_result"
    }
   ],
   "source": [
    "lang.reverse()\n",
    "lang"
   ]
  },
  {
   "cell_type": "code",
   "execution_count": 30,
   "id": "e4ac5f9b",
   "metadata": {
    "ExecuteTime": {
     "end_time": "2023-08-11T07:06:40.388459Z",
     "start_time": "2023-08-11T07:06:40.382410Z"
    }
   },
   "outputs": [
    {
     "data": {
      "text/plain": [
       "['C', 'C++', 'Java', 'Python']"
      ]
     },
     "execution_count": 30,
     "metadata": {},
     "output_type": "execute_result"
    }
   ],
   "source": [
    "lang[::-1]"
   ]
  },
  {
   "cell_type": "code",
   "execution_count": 31,
   "id": "b3bd99ab",
   "metadata": {
    "ExecuteTime": {
     "end_time": "2023-08-11T07:06:40.396293Z",
     "start_time": "2023-08-11T07:06:40.390577Z"
    }
   },
   "outputs": [
    {
     "data": {
      "text/plain": [
       "['Python', 'Java', 'C++', 'C']"
      ]
     },
     "execution_count": 31,
     "metadata": {},
     "output_type": "execute_result"
    }
   ],
   "source": [
    "lang"
   ]
  },
  {
   "cell_type": "code",
   "execution_count": 32,
   "id": "7e0bac86",
   "metadata": {
    "ExecuteTime": {
     "end_time": "2023-08-11T07:06:40.404685Z",
     "start_time": "2023-08-11T07:06:40.398497Z"
    }
   },
   "outputs": [
    {
     "data": {
      "text/plain": [
       "[1, 2, 3, 3, 5, 8]"
      ]
     },
     "execution_count": 32,
     "metadata": {},
     "output_type": "execute_result"
    }
   ],
   "source": [
    "num = [2,3,5,1,8,3]\n",
    "num.sort()\n",
    "num"
   ]
  },
  {
   "cell_type": "code",
   "execution_count": 33,
   "id": "bd59b32d",
   "metadata": {
    "ExecuteTime": {
     "end_time": "2023-08-11T07:06:40.411661Z",
     "start_time": "2023-08-11T07:06:40.407068Z"
    }
   },
   "outputs": [],
   "source": [
    "num.sort(reverse=True)"
   ]
  },
  {
   "cell_type": "code",
   "execution_count": 34,
   "id": "738d8ab9",
   "metadata": {
    "ExecuteTime": {
     "end_time": "2023-08-11T07:06:40.421008Z",
     "start_time": "2023-08-11T07:06:40.413626Z"
    }
   },
   "outputs": [
    {
     "data": {
      "text/plain": [
       "[8, 5, 3, 3, 2, 1]"
      ]
     },
     "execution_count": 34,
     "metadata": {},
     "output_type": "execute_result"
    }
   ],
   "source": [
    "num"
   ]
  },
  {
   "cell_type": "code",
   "execution_count": 35,
   "id": "bb9d67f2",
   "metadata": {
    "ExecuteTime": {
     "end_time": "2023-08-11T07:06:40.427769Z",
     "start_time": "2023-08-11T07:06:40.423144Z"
    }
   },
   "outputs": [],
   "source": [
    "lang.append('C')"
   ]
  },
  {
   "cell_type": "code",
   "execution_count": 36,
   "id": "fcf396fc",
   "metadata": {
    "ExecuteTime": {
     "end_time": "2023-08-11T07:06:40.437060Z",
     "start_time": "2023-08-11T07:06:40.429472Z"
    }
   },
   "outputs": [
    {
     "data": {
      "text/plain": [
       "['Python', 'Java', 'C++', 'C', 'C']"
      ]
     },
     "execution_count": 36,
     "metadata": {},
     "output_type": "execute_result"
    }
   ],
   "source": [
    "lang"
   ]
  },
  {
   "cell_type": "code",
   "execution_count": 37,
   "id": "dbe1cc18",
   "metadata": {
    "ExecuteTime": {
     "end_time": "2023-08-11T07:06:40.445371Z",
     "start_time": "2023-08-11T07:06:40.439366Z"
    }
   },
   "outputs": [
    {
     "data": {
      "text/plain": [
       "1"
      ]
     },
     "execution_count": 37,
     "metadata": {},
     "output_type": "execute_result"
    }
   ],
   "source": [
    "lang.index('Java')"
   ]
  },
  {
   "cell_type": "code",
   "execution_count": 38,
   "id": "ef83c76a",
   "metadata": {
    "ExecuteTime": {
     "end_time": "2023-08-11T07:06:40.453309Z",
     "start_time": "2023-08-11T07:06:40.447347Z"
    }
   },
   "outputs": [
    {
     "data": {
      "text/plain": [
       "2"
      ]
     },
     "execution_count": 38,
     "metadata": {},
     "output_type": "execute_result"
    }
   ],
   "source": [
    "lang.count('C')"
   ]
  },
  {
   "cell_type": "code",
   "execution_count": 39,
   "id": "460fc68c",
   "metadata": {
    "ExecuteTime": {
     "end_time": "2023-08-11T07:06:40.463028Z",
     "start_time": "2023-08-11T07:06:40.458784Z"
    }
   },
   "outputs": [
    {
     "data": {
      "text/plain": [
       "['p', 'y', 't', 'h', 'o', 'n']"
      ]
     },
     "execution_count": 39,
     "metadata": {},
     "output_type": "execute_result"
    }
   ],
   "source": [
    "list(s)"
   ]
  },
  {
   "cell_type": "code",
   "execution_count": 40,
   "id": "eef07351",
   "metadata": {
    "ExecuteTime": {
     "end_time": "2023-08-11T07:06:40.469946Z",
     "start_time": "2023-08-11T07:06:40.465199Z"
    }
   },
   "outputs": [],
   "source": [
    "lst1 = [1,2,3]\n",
    "lst2 = [4,5,6]"
   ]
  },
  {
   "cell_type": "code",
   "execution_count": 41,
   "id": "088461a0",
   "metadata": {
    "ExecuteTime": {
     "end_time": "2023-08-11T07:06:40.481085Z",
     "start_time": "2023-08-11T07:06:40.473369Z"
    }
   },
   "outputs": [
    {
     "data": {
      "text/plain": [
       "[1, 2, 3, 4, 5, 6]"
      ]
     },
     "execution_count": 41,
     "metadata": {},
     "output_type": "execute_result"
    }
   ],
   "source": [
    "lst1 + lst2"
   ]
  },
  {
   "cell_type": "code",
   "execution_count": 42,
   "id": "9d9a046f",
   "metadata": {
    "ExecuteTime": {
     "end_time": "2023-08-11T07:06:40.489956Z",
     "start_time": "2023-08-11T07:06:40.485514Z"
    }
   },
   "outputs": [
    {
     "data": {
      "text/plain": [
       "6"
      ]
     },
     "execution_count": 42,
     "metadata": {},
     "output_type": "execute_result"
    }
   ],
   "source": [
    "sum(lst1)"
   ]
  },
  {
   "cell_type": "code",
   "execution_count": 43,
   "id": "aa8c56d2",
   "metadata": {
    "ExecuteTime": {
     "end_time": "2023-08-11T07:06:40.497473Z",
     "start_time": "2023-08-11T07:06:40.491996Z"
    }
   },
   "outputs": [
    {
     "data": {
      "text/plain": [
       "float"
      ]
     },
     "execution_count": 43,
     "metadata": {},
     "output_type": "execute_result"
    }
   ],
   "source": [
    "f = 3.25\n",
    "type(f)"
   ]
  },
  {
   "cell_type": "code",
   "execution_count": 44,
   "id": "0de534ad",
   "metadata": {
    "ExecuteTime": {
     "end_time": "2023-08-11T07:06:40.505496Z",
     "start_time": "2023-08-11T07:06:40.499601Z"
    }
   },
   "outputs": [
    {
     "data": {
      "text/plain": [
       "bool"
      ]
     },
     "execution_count": 44,
     "metadata": {},
     "output_type": "execute_result"
    }
   ],
   "source": [
    "a = True\n",
    "type(a)"
   ]
  },
  {
   "cell_type": "code",
   "execution_count": 45,
   "id": "212ba2a9",
   "metadata": {
    "ExecuteTime": {
     "end_time": "2023-08-11T07:06:40.513328Z",
     "start_time": "2023-08-11T07:06:40.507573Z"
    }
   },
   "outputs": [
    {
     "data": {
      "text/plain": [
       "8.333333333333334"
      ]
     },
     "execution_count": 45,
     "metadata": {},
     "output_type": "execute_result"
    }
   ],
   "source": [
    "25/3"
   ]
  },
  {
   "cell_type": "code",
   "execution_count": 46,
   "id": "2d2c8d6f",
   "metadata": {
    "ExecuteTime": {
     "end_time": "2023-08-11T07:06:40.521768Z",
     "start_time": "2023-08-11T07:06:40.515329Z"
    }
   },
   "outputs": [
    {
     "data": {
      "text/plain": [
       "8"
      ]
     },
     "execution_count": 46,
     "metadata": {},
     "output_type": "execute_result"
    }
   ],
   "source": [
    "25//3"
   ]
  },
  {
   "cell_type": "code",
   "execution_count": 47,
   "id": "3577aec9",
   "metadata": {
    "ExecuteTime": {
     "end_time": "2023-08-11T07:06:40.529691Z",
     "start_time": "2023-08-11T07:06:40.523741Z"
    }
   },
   "outputs": [
    {
     "data": {
      "text/plain": [
       "[8, 5, 3, 3, 2, 1]"
      ]
     },
     "execution_count": 47,
     "metadata": {},
     "output_type": "execute_result"
    }
   ],
   "source": [
    "num"
   ]
  },
  {
   "cell_type": "code",
   "execution_count": 48,
   "id": "c0149226",
   "metadata": {
    "ExecuteTime": {
     "end_time": "2023-08-11T07:06:40.537520Z",
     "start_time": "2023-08-11T07:06:40.531829Z"
    }
   },
   "outputs": [
    {
     "name": "stdout",
     "output_type": "stream",
     "text": [
      "64\n",
      "25\n",
      "9\n",
      "9\n",
      "4\n",
      "1\n"
     ]
    }
   ],
   "source": [
    "for i in num:\n",
    "    print(i*i)"
   ]
  },
  {
   "cell_type": "code",
   "execution_count": 49,
   "id": "e04ff08e",
   "metadata": {
    "ExecuteTime": {
     "end_time": "2023-08-11T07:06:40.544865Z",
     "start_time": "2023-08-11T07:06:40.539497Z"
    }
   },
   "outputs": [
    {
     "name": "stdout",
     "output_type": "stream",
     "text": [
      "[64, 25, 9, 9, 4, 1]\n"
     ]
    }
   ],
   "source": [
    "res = []\n",
    "for i in num:\n",
    "    sq = i ** 2\n",
    "    res.append(sq)\n",
    "print(res)"
   ]
  },
  {
   "cell_type": "code",
   "execution_count": 50,
   "id": "a8522193",
   "metadata": {
    "ExecuteTime": {
     "end_time": "2023-08-11T07:06:40.555092Z",
     "start_time": "2023-08-11T07:06:40.546973Z"
    }
   },
   "outputs": [
    {
     "name": "stdout",
     "output_type": "stream",
     "text": [
      "[64, 25, 9, 9, 4, 1]\n"
     ]
    }
   ],
   "source": [
    "# To save it in a list\n",
    "res = []\n",
    "for i in num:\n",
    "    res.append(i*i)\n",
    "print(res)"
   ]
  },
  {
   "cell_type": "code",
   "execution_count": 51,
   "id": "7120f258",
   "metadata": {
    "ExecuteTime": {
     "end_time": "2023-08-11T07:06:40.564280Z",
     "start_time": "2023-08-11T07:06:40.558861Z"
    }
   },
   "outputs": [
    {
     "name": "stdout",
     "output_type": "stream",
     "text": [
      "www.amazon.com\n",
      "www.flipkart.com\n",
      "www.sanpdeal.com\n"
     ]
    }
   ],
   "source": [
    "companies = ['amazon', 'flipkart', 'sanpdeal']\n",
    "\n",
    "for i in companies:\n",
    "    print(\"www.\" + i + \".com\")"
   ]
  },
  {
   "cell_type": "code",
   "execution_count": 52,
   "id": "f63fd8f7",
   "metadata": {
    "ExecuteTime": {
     "end_time": "2023-08-11T07:06:40.575263Z",
     "start_time": "2023-08-11T07:06:40.567174Z"
    }
   },
   "outputs": [
    {
     "name": "stdout",
     "output_type": "stream",
     "text": [
      "[1, 2, 3, ['abc', 'def'], True, 45.0, (2+3j)]\n"
     ]
    },
    {
     "data": {
      "text/plain": [
       "[1, 2, 3, ['abc', 'def'], True, 45.0, (2+3j)]"
      ]
     },
     "metadata": {},
     "output_type": "display_data"
    }
   ],
   "source": [
    "xyz = [1, 2, 3,['abc','def'],True, 45.0, 2 + 3j]\n",
    "print(xyz)\n",
    "display(xyz)"
   ]
  },
  {
   "cell_type": "code",
   "execution_count": 53,
   "id": "f01461b8",
   "metadata": {
    "ExecuteTime": {
     "end_time": "2023-08-11T07:06:40.581875Z",
     "start_time": "2023-08-11T07:06:40.577379Z"
    }
   },
   "outputs": [
    {
     "data": {
      "text/plain": [
       "'d'"
      ]
     },
     "execution_count": 53,
     "metadata": {},
     "output_type": "execute_result"
    }
   ],
   "source": [
    "xyz[3][1][0]"
   ]
  },
  {
   "cell_type": "code",
   "execution_count": 54,
   "id": "b117b8fd",
   "metadata": {
    "ExecuteTime": {
     "end_time": "2023-08-11T07:06:40.590338Z",
     "start_time": "2023-08-11T07:06:40.584393Z"
    }
   },
   "outputs": [
    {
     "data": {
      "text/plain": [
       "[8, 5, 3, 3, 2, 1]"
      ]
     },
     "execution_count": 54,
     "metadata": {},
     "output_type": "execute_result"
    }
   ],
   "source": [
    "num"
   ]
  },
  {
   "cell_type": "code",
   "execution_count": 55,
   "id": "2d7cee6d",
   "metadata": {
    "ExecuteTime": {
     "end_time": "2023-08-11T07:06:40.598475Z",
     "start_time": "2023-08-11T07:06:40.592534Z"
    }
   },
   "outputs": [
    {
     "data": {
      "text/plain": [
       "[1, 2]"
      ]
     },
     "execution_count": 55,
     "metadata": {},
     "output_type": "execute_result"
    }
   ],
   "source": [
    "num[-1 : -3 : -1]"
   ]
  },
  {
   "cell_type": "code",
   "execution_count": 56,
   "id": "9fbde783",
   "metadata": {
    "ExecuteTime": {
     "end_time": "2023-08-11T07:06:40.605536Z",
     "start_time": "2023-08-11T07:06:40.601051Z"
    }
   },
   "outputs": [],
   "source": [
    "languages = ['JavaScript', 'C', 'Python', 'C++'] "
   ]
  },
  {
   "cell_type": "code",
   "execution_count": 57,
   "id": "7ea3d022",
   "metadata": {
    "ExecuteTime": {
     "end_time": "2023-08-11T07:06:40.613024Z",
     "start_time": "2023-08-11T07:06:40.607272Z"
    }
   },
   "outputs": [],
   "source": [
    "anotherlist = ['TCS', 'Infosys', 'Wipro']"
   ]
  },
  {
   "cell_type": "code",
   "execution_count": 58,
   "id": "27cc31a2",
   "metadata": {
    "ExecuteTime": {
     "end_time": "2023-08-11T07:06:40.621899Z",
     "start_time": "2023-08-11T07:06:40.615738Z"
    }
   },
   "outputs": [
    {
     "data": {
      "text/plain": [
       "['JavaScript', 'C', 'Python', 'C++', 'TCS', 'Infosys', 'Wipro']"
      ]
     },
     "execution_count": 58,
     "metadata": {},
     "output_type": "execute_result"
    }
   ],
   "source": [
    "languages.extend(anotherlist)\n",
    "languages"
   ]
  },
  {
   "cell_type": "code",
   "execution_count": 59,
   "id": "31efe3a7",
   "metadata": {
    "ExecuteTime": {
     "end_time": "2023-08-11T07:06:40.630744Z",
     "start_time": "2023-08-11T07:06:40.623774Z"
    }
   },
   "outputs": [
    {
     "data": {
      "text/plain": [
       "[1, 2, 7, 3, 4, 5, 6]"
      ]
     },
     "execution_count": 59,
     "metadata": {},
     "output_type": "execute_result"
    }
   ],
   "source": [
    "lst = [1,2,7]\n",
    "lst2 = [3,4]\n",
    "lst3 = [5,6]\n",
    "lst.extend(lst2)\n",
    "lst.extend(lst3)\n",
    "lst"
   ]
  },
  {
   "cell_type": "code",
   "execution_count": 60,
   "id": "9f31b1f6",
   "metadata": {
    "ExecuteTime": {
     "end_time": "2023-08-11T07:06:40.639341Z",
     "start_time": "2023-08-11T07:06:40.632745Z"
    }
   },
   "outputs": [
    {
     "data": {
      "text/plain": [
       "['JavaScript', 'C', 'Python', 'C++', 'TCS', 'Infosys', 'Wipro', 'Welcome']"
      ]
     },
     "execution_count": 60,
     "metadata": {},
     "output_type": "execute_result"
    }
   ],
   "source": [
    "languages.extend(['Welcome'])\n",
    "languages"
   ]
  },
  {
   "cell_type": "code",
   "execution_count": 61,
   "id": "c9df3cda",
   "metadata": {
    "ExecuteTime": {
     "end_time": "2023-08-11T07:06:40.647665Z",
     "start_time": "2023-08-11T07:06:40.641294Z"
    }
   },
   "outputs": [
    {
     "data": {
      "text/plain": [
       "[1, 2, 7, 3, 4, 5, 6]"
      ]
     },
     "execution_count": 61,
     "metadata": {},
     "output_type": "execute_result"
    }
   ],
   "source": [
    "lst "
   ]
  },
  {
   "cell_type": "code",
   "execution_count": 62,
   "id": "add12c1f",
   "metadata": {
    "ExecuteTime": {
     "end_time": "2023-08-11T07:06:40.657309Z",
     "start_time": "2023-08-11T07:06:40.649727Z"
    }
   },
   "outputs": [
    {
     "data": {
      "text/plain": [
       "[1, 2, 3, 4, 5, 6, 7]"
      ]
     },
     "execution_count": 62,
     "metadata": {},
     "output_type": "execute_result"
    }
   ],
   "source": [
    "lst.sort()\n",
    "lst"
   ]
  },
  {
   "cell_type": "code",
   "execution_count": 63,
   "id": "f0fe5933",
   "metadata": {
    "ExecuteTime": {
     "end_time": "2023-08-11T07:06:40.666532Z",
     "start_time": "2023-08-11T07:06:40.659162Z"
    }
   },
   "outputs": [
    {
     "data": {
      "text/plain": [
       "[1, 2, 7, 3, 4, 5, 6]"
      ]
     },
     "execution_count": 63,
     "metadata": {},
     "output_type": "execute_result"
    }
   ],
   "source": [
    "lst1 = [1, 2, 7, 3, 4, 5, 6]\n",
    "sorted(lst1)\n",
    "lst1"
   ]
  },
  {
   "cell_type": "markdown",
   "id": "82646984",
   "metadata": {},
   "source": [
    "## TUPLES\n",
    "\n",
    "- Tuples are ordered collection of items/elements/objects\n",
    "- Tuples are immutable and use round brackets ( )"
   ]
  },
  {
   "cell_type": "code",
   "execution_count": 64,
   "id": "c963fe84",
   "metadata": {
    "ExecuteTime": {
     "end_time": "2023-08-11T07:06:40.673812Z",
     "start_time": "2023-08-11T07:06:40.668409Z"
    }
   },
   "outputs": [],
   "source": [
    "vaccines = ('Covaxin', 'Covishield', 'Sputnik')"
   ]
  },
  {
   "cell_type": "code",
   "execution_count": 65,
   "id": "823f27d6",
   "metadata": {
    "ExecuteTime": {
     "end_time": "2023-08-11T07:06:40.684130Z",
     "start_time": "2023-08-11T07:06:40.676239Z"
    }
   },
   "outputs": [
    {
     "data": {
      "text/plain": [
       "tuple"
      ]
     },
     "execution_count": 65,
     "metadata": {},
     "output_type": "execute_result"
    }
   ],
   "source": [
    "type(vaccines)"
   ]
  },
  {
   "cell_type": "code",
   "execution_count": 66,
   "id": "b51dfb99",
   "metadata": {
    "ExecuteTime": {
     "end_time": "2023-08-11T07:06:40.691285Z",
     "start_time": "2023-08-11T07:06:40.687133Z"
    }
   },
   "outputs": [
    {
     "data": {
      "text/plain": [
       "1"
      ]
     },
     "execution_count": 66,
     "metadata": {},
     "output_type": "execute_result"
    }
   ],
   "source": [
    "vaccines.count('Covaxin')"
   ]
  },
  {
   "cell_type": "code",
   "execution_count": 67,
   "id": "cbe9b8e5",
   "metadata": {
    "ExecuteTime": {
     "end_time": "2023-08-11T07:06:40.699351Z",
     "start_time": "2023-08-11T07:06:40.693415Z"
    }
   },
   "outputs": [
    {
     "data": {
      "text/plain": [
       "'u'"
      ]
     },
     "execution_count": 67,
     "metadata": {},
     "output_type": "execute_result"
    }
   ],
   "source": [
    "vaccines[2][2]"
   ]
  },
  {
   "cell_type": "code",
   "execution_count": 68,
   "id": "212eacb0",
   "metadata": {
    "ExecuteTime": {
     "end_time": "2023-08-11T07:06:40.712791Z",
     "start_time": "2023-08-11T07:06:40.708364Z"
    }
   },
   "outputs": [
    {
     "data": {
      "text/plain": [
       "('Covaxin', 'Covishield')"
      ]
     },
     "execution_count": 68,
     "metadata": {},
     "output_type": "execute_result"
    }
   ],
   "source": [
    "vaccines[0:2]"
   ]
  },
  {
   "cell_type": "code",
   "execution_count": 69,
   "id": "96e4a044",
   "metadata": {
    "ExecuteTime": {
     "end_time": "2023-08-11T07:06:40.720898Z",
     "start_time": "2023-08-11T07:06:40.715133Z"
    }
   },
   "outputs": [
    {
     "data": {
      "text/plain": [
       "1"
      ]
     },
     "execution_count": 69,
     "metadata": {},
     "output_type": "execute_result"
    }
   ],
   "source": [
    "vaccines.index('Covishield')"
   ]
  },
  {
   "cell_type": "code",
   "execution_count": 70,
   "id": "5b75887e",
   "metadata": {
    "ExecuteTime": {
     "end_time": "2023-08-11T07:06:40.729159Z",
     "start_time": "2023-08-11T07:06:40.723216Z"
    }
   },
   "outputs": [
    {
     "data": {
      "text/plain": [
       "('x', 'y', 'z', [1, 2, 3, 4], 'a', 'b', 'c')"
      ]
     },
     "execution_count": 70,
     "metadata": {},
     "output_type": "execute_result"
    }
   ],
   "source": [
    "my_tuple = ('x', 'y', 'z', [1,2,3,4], 'a', 'b', 'c')\n",
    "my_tuple"
   ]
  },
  {
   "cell_type": "code",
   "execution_count": 71,
   "id": "4ad0d671",
   "metadata": {
    "ExecuteTime": {
     "end_time": "2023-08-11T07:06:40.737400Z",
     "start_time": "2023-08-11T07:06:40.731508Z"
    }
   },
   "outputs": [
    {
     "data": {
      "text/plain": [
       "2"
      ]
     },
     "execution_count": 71,
     "metadata": {},
     "output_type": "execute_result"
    }
   ],
   "source": [
    "my_tuple[3][1]"
   ]
  },
  {
   "cell_type": "code",
   "execution_count": 72,
   "id": "57009c35",
   "metadata": {
    "ExecuteTime": {
     "end_time": "2023-08-11T07:06:40.746011Z",
     "start_time": "2023-08-11T07:06:40.739393Z"
    }
   },
   "outputs": [
    {
     "data": {
      "text/plain": [
       "('x', 'y', 'z', [1, 'abc', 3, 4], 'a', 'b', 'c')"
      ]
     },
     "execution_count": 72,
     "metadata": {},
     "output_type": "execute_result"
    }
   ],
   "source": [
    "my_tuple[3][1] = 'abc'\n",
    "my_tuple"
   ]
  },
  {
   "cell_type": "code",
   "execution_count": 73,
   "id": "a1b5fc8f",
   "metadata": {
    "ExecuteTime": {
     "end_time": "2023-08-11T07:06:40.755024Z",
     "start_time": "2023-08-11T07:06:40.748250Z"
    }
   },
   "outputs": [
    {
     "data": {
      "text/plain": [
       "('x', 'y', 'z', [1, 'abc', 'xyz', 3, 4], 'a', 'b', 'c')"
      ]
     },
     "execution_count": 73,
     "metadata": {},
     "output_type": "execute_result"
    }
   ],
   "source": [
    "my_tuple[3].insert(2,'xyz')\n",
    "my_tuple"
   ]
  },
  {
   "cell_type": "markdown",
   "id": "dd61ff1b",
   "metadata": {},
   "source": [
    "### Packing"
   ]
  },
  {
   "cell_type": "code",
   "execution_count": 74,
   "id": "8396177e",
   "metadata": {
    "ExecuteTime": {
     "end_time": "2023-08-11T07:06:40.764927Z",
     "start_time": "2023-08-11T07:06:40.757164Z"
    }
   },
   "outputs": [
    {
     "data": {
      "text/plain": [
       "('Rohit', '36', 'Mumbai')"
      ]
     },
     "execution_count": 74,
     "metadata": {},
     "output_type": "execute_result"
    }
   ],
   "source": [
    "rs = 'Rohit', '36', 'Mumbai'\n",
    "rs"
   ]
  },
  {
   "cell_type": "markdown",
   "id": "4ae812a5",
   "metadata": {},
   "source": [
    "### Misc - IN Operator"
   ]
  },
  {
   "cell_type": "code",
   "execution_count": 75,
   "id": "ae364396",
   "metadata": {
    "ExecuteTime": {
     "end_time": "2023-08-11T07:06:40.772208Z",
     "start_time": "2023-08-11T07:06:40.767099Z"
    }
   },
   "outputs": [],
   "source": [
    "player = ('Virat', 'RCB', [100,70,80,110], 'Test') "
   ]
  },
  {
   "cell_type": "code",
   "execution_count": 76,
   "id": "9010c912",
   "metadata": {
    "ExecuteTime": {
     "end_time": "2023-08-11T07:06:40.781577Z",
     "start_time": "2023-08-11T07:06:40.774076Z"
    }
   },
   "outputs": [
    {
     "data": {
      "text/plain": [
       "True"
      ]
     },
     "execution_count": 76,
     "metadata": {},
     "output_type": "execute_result"
    }
   ],
   "source": [
    "'Virat' in player"
   ]
  },
  {
   "cell_type": "code",
   "execution_count": 77,
   "id": "e8c73907",
   "metadata": {
    "ExecuteTime": {
     "end_time": "2023-08-11T07:06:40.789919Z",
     "start_time": "2023-08-11T07:06:40.783889Z"
    }
   },
   "outputs": [
    {
     "data": {
      "text/plain": [
       "False"
      ]
     },
     "execution_count": 77,
     "metadata": {},
     "output_type": "execute_result"
    }
   ],
   "source": [
    "'Rohit' in player"
   ]
  },
  {
   "cell_type": "code",
   "execution_count": 78,
   "id": "1803224f",
   "metadata": {
    "ExecuteTime": {
     "end_time": "2023-08-11T07:06:40.798671Z",
     "start_time": "2023-08-11T07:06:40.791807Z"
    }
   },
   "outputs": [
    {
     "data": {
      "text/plain": [
       "False"
      ]
     },
     "execution_count": 78,
     "metadata": {},
     "output_type": "execute_result"
    }
   ],
   "source": [
    "\"Virat\" not in player"
   ]
  },
  {
   "cell_type": "code",
   "execution_count": 79,
   "id": "a96f7a96",
   "metadata": {
    "ExecuteTime": {
     "end_time": "2023-08-11T07:06:40.806895Z",
     "start_time": "2023-08-11T07:06:40.801011Z"
    }
   },
   "outputs": [
    {
     "data": {
      "text/plain": [
       "True"
      ]
     },
     "execution_count": 79,
     "metadata": {},
     "output_type": "execute_result"
    }
   ],
   "source": [
    "\"Rohit\" not in player"
   ]
  },
  {
   "cell_type": "markdown",
   "id": "4a5d0786",
   "metadata": {},
   "source": [
    "### Miscellaneous for strings"
   ]
  },
  {
   "cell_type": "code",
   "execution_count": 80,
   "id": "7d45fd4a",
   "metadata": {
    "ExecuteTime": {
     "end_time": "2023-08-11T07:06:40.814735Z",
     "start_time": "2023-08-11T07:06:40.808878Z"
    }
   },
   "outputs": [
    {
     "name": "stdout",
     "output_type": "stream",
     "text": [
      "c:\n",
      "ewfolder\n"
     ]
    }
   ],
   "source": [
    "location = \"c:\\newfolder\"\n",
    "print(location)"
   ]
  },
  {
   "cell_type": "code",
   "execution_count": 81,
   "id": "239aa4bc",
   "metadata": {
    "ExecuteTime": {
     "end_time": "2023-08-11T07:06:40.824064Z",
     "start_time": "2023-08-11T07:06:40.816624Z"
    }
   },
   "outputs": [
    {
     "data": {
      "text/plain": [
       "'c:\\newfolder'"
      ]
     },
     "execution_count": 81,
     "metadata": {},
     "output_type": "execute_result"
    }
   ],
   "source": [
    "location"
   ]
  },
  {
   "cell_type": "code",
   "execution_count": 82,
   "id": "b1c2d7e6",
   "metadata": {
    "ExecuteTime": {
     "end_time": "2023-08-11T07:06:40.831883Z",
     "start_time": "2023-08-11T07:06:40.825852Z"
    }
   },
   "outputs": [
    {
     "name": "stdout",
     "output_type": "stream",
     "text": [
      "c:\\newfolder\n"
     ]
    }
   ],
   "source": [
    "location1 = r\"c:\\newfolder\"\n",
    "print(location1)"
   ]
  },
  {
   "cell_type": "code",
   "execution_count": 83,
   "id": "232f40cb",
   "metadata": {
    "ExecuteTime": {
     "end_time": "2023-08-11T07:06:40.841148Z",
     "start_time": "2023-08-11T07:06:40.833956Z"
    }
   },
   "outputs": [
    {
     "data": {
      "text/plain": [
       "'c:\\\\newfolder'"
      ]
     },
     "execution_count": 83,
     "metadata": {},
     "output_type": "execute_result"
    }
   ],
   "source": [
    "location1  # By default it will take one extra back slash"
   ]
  },
  {
   "cell_type": "markdown",
   "id": "a52a9e73",
   "metadata": {},
   "source": [
    "### FORMAT"
   ]
  },
  {
   "cell_type": "code",
   "execution_count": 84,
   "id": "8ac03600",
   "metadata": {
    "ExecuteTime": {
     "end_time": "2023-08-11T07:06:40.848508Z",
     "start_time": "2023-08-11T07:06:40.843063Z"
    }
   },
   "outputs": [],
   "source": [
    "sessioncount = 10\n",
    "chapters = 8 "
   ]
  },
  {
   "cell_type": "code",
   "execution_count": 85,
   "id": "5c6c6501",
   "metadata": {
    "ExecuteTime": {
     "end_time": "2023-08-11T07:06:40.857927Z",
     "start_time": "2023-08-11T07:06:40.850895Z"
    }
   },
   "outputs": [
    {
     "data": {
      "text/plain": [
       "'There will be 8 chapters in the course, spanned across 10 sessions'"
      ]
     },
     "execution_count": 85,
     "metadata": {},
     "output_type": "execute_result"
    }
   ],
   "source": [
    "fmsg = \"There will be {} chapters in the course, spanned across {} sessions\".format(chapters, sessioncount)\n",
    "fmsg"
   ]
  },
  {
   "cell_type": "code",
   "execution_count": 86,
   "id": "f65db950",
   "metadata": {
    "ExecuteTime": {
     "end_time": "2023-08-11T07:06:40.866880Z",
     "start_time": "2023-08-11T07:06:40.860210Z"
    }
   },
   "outputs": [
    {
     "data": {
      "text/plain": [
       "'There will be 8 chapters in the course, spanned across 10 sessions and 10 sessions'"
      ]
     },
     "execution_count": 86,
     "metadata": {},
     "output_type": "execute_result"
    }
   ],
   "source": [
    "fmsg = \"There will be {0} chapters in the course, spanned across {1} sessions and {1} sessions\".format(chapters, sessioncount)\n",
    "fmsg"
   ]
  },
  {
   "cell_type": "markdown",
   "id": "1116c380",
   "metadata": {},
   "source": [
    "### DICTIONARIES\n",
    "- Collection of key-value pairs\n",
    "- It can store multiple things like list, tuple\n",
    "- Dictionaries are mutable\n",
    "- syntax { }\n"
   ]
  },
  {
   "cell_type": "code",
   "execution_count": 87,
   "id": "b005401d",
   "metadata": {
    "ExecuteTime": {
     "end_time": "2023-08-11T07:06:40.874140Z",
     "start_time": "2023-08-11T07:06:40.868950Z"
    }
   },
   "outputs": [],
   "source": [
    "fruits = {'a' : 'apple', 'b': 'banana', 'c' : 'cherry'}"
   ]
  },
  {
   "cell_type": "code",
   "execution_count": 88,
   "id": "58b32a1a",
   "metadata": {
    "ExecuteTime": {
     "end_time": "2023-08-11T07:06:40.884716Z",
     "start_time": "2023-08-11T07:06:40.876001Z"
    }
   },
   "outputs": [
    {
     "data": {
      "text/plain": [
       "{'a': 'apple', 'b': 'banana', 'c': 'cherry'}"
      ]
     },
     "execution_count": 88,
     "metadata": {},
     "output_type": "execute_result"
    }
   ],
   "source": [
    "fruits"
   ]
  },
  {
   "cell_type": "code",
   "execution_count": 89,
   "id": "2d5ec789",
   "metadata": {
    "ExecuteTime": {
     "end_time": "2023-08-11T07:06:40.893148Z",
     "start_time": "2023-08-11T07:06:40.888862Z"
    }
   },
   "outputs": [
    {
     "data": {
      "text/plain": [
       "dict"
      ]
     },
     "execution_count": 89,
     "metadata": {},
     "output_type": "execute_result"
    }
   ],
   "source": [
    "type(fruits)"
   ]
  },
  {
   "cell_type": "code",
   "execution_count": 90,
   "id": "252e5b5a",
   "metadata": {
    "ExecuteTime": {
     "end_time": "2023-08-11T07:06:40.902245Z",
     "start_time": "2023-08-11T07:06:40.895654Z"
    }
   },
   "outputs": [
    {
     "data": {
      "text/plain": [
       "'cherry'"
      ]
     },
     "execution_count": 90,
     "metadata": {},
     "output_type": "execute_result"
    }
   ],
   "source": [
    "fruits['c']"
   ]
  },
  {
   "cell_type": "code",
   "execution_count": 91,
   "id": "f43e99cf",
   "metadata": {
    "ExecuteTime": {
     "end_time": "2023-08-11T07:06:40.907999Z",
     "start_time": "2023-08-11T07:06:40.905406Z"
    }
   },
   "outputs": [],
   "source": [
    "fruits['p'] = 'papaya'"
   ]
  },
  {
   "cell_type": "code",
   "execution_count": 92,
   "id": "335f937e",
   "metadata": {
    "ExecuteTime": {
     "end_time": "2023-08-11T07:06:40.916546Z",
     "start_time": "2023-08-11T07:06:40.910153Z"
    }
   },
   "outputs": [
    {
     "data": {
      "text/plain": [
       "{'a': 'apple', 'b': 'banana', 'c': 'cherry', 'p': 'papaya'}"
      ]
     },
     "execution_count": 92,
     "metadata": {},
     "output_type": "execute_result"
    }
   ],
   "source": [
    "fruits"
   ]
  },
  {
   "cell_type": "code",
   "execution_count": 93,
   "id": "f8a519c4",
   "metadata": {
    "ExecuteTime": {
     "end_time": "2023-08-11T07:06:40.924062Z",
     "start_time": "2023-08-11T07:06:40.918759Z"
    }
   },
   "outputs": [
    {
     "data": {
      "text/plain": [
       "{'a': 'apple', 'b': 'banana', 'c': 'cherry', 'p': 'papaya', 'ap': 'apricot'}"
      ]
     },
     "execution_count": 93,
     "metadata": {},
     "output_type": "execute_result"
    }
   ],
   "source": [
    "fruits['ap'] = 'apricot'\n",
    "fruits"
   ]
  },
  {
   "cell_type": "code",
   "execution_count": 94,
   "id": "53a387aa",
   "metadata": {
    "ExecuteTime": {
     "end_time": "2023-08-11T07:06:40.931906Z",
     "start_time": "2023-08-11T07:06:40.926116Z"
    }
   },
   "outputs": [
    {
     "data": {
      "text/plain": [
       "'apricot'"
      ]
     },
     "execution_count": 94,
     "metadata": {},
     "output_type": "execute_result"
    }
   ],
   "source": [
    "fruits.pop('ap')"
   ]
  },
  {
   "cell_type": "code",
   "execution_count": 95,
   "id": "dfcb2ec1",
   "metadata": {
    "ExecuteTime": {
     "end_time": "2023-08-11T07:06:40.939640Z",
     "start_time": "2023-08-11T07:06:40.934700Z"
    }
   },
   "outputs": [
    {
     "data": {
      "text/plain": [
       "('p', 'papaya')"
      ]
     },
     "execution_count": 95,
     "metadata": {},
     "output_type": "execute_result"
    }
   ],
   "source": [
    "fruits.popitem()"
   ]
  },
  {
   "cell_type": "markdown",
   "id": "c5290ddc",
   "metadata": {},
   "source": [
    "### Range\n",
    "- Used to generate series or sequence of numbers\n",
    "- Start (included), end (excluded) and a step size or count"
   ]
  },
  {
   "cell_type": "code",
   "execution_count": 96,
   "id": "1f314c3b",
   "metadata": {
    "ExecuteTime": {
     "end_time": "2023-08-11T07:06:40.946502Z",
     "start_time": "2023-08-11T07:06:40.942695Z"
    }
   },
   "outputs": [],
   "source": [
    "r = range(1,11)"
   ]
  },
  {
   "cell_type": "code",
   "execution_count": 97,
   "id": "6138a610",
   "metadata": {
    "ExecuteTime": {
     "end_time": "2023-08-11T07:06:40.956690Z",
     "start_time": "2023-08-11T07:06:40.948655Z"
    }
   },
   "outputs": [
    {
     "data": {
      "text/plain": [
       "range"
      ]
     },
     "execution_count": 97,
     "metadata": {},
     "output_type": "execute_result"
    }
   ],
   "source": [
    "type(r)"
   ]
  },
  {
   "cell_type": "code",
   "execution_count": 98,
   "id": "e248098f",
   "metadata": {
    "ExecuteTime": {
     "end_time": "2023-08-11T07:06:40.964748Z",
     "start_time": "2023-08-11T07:06:40.958907Z"
    }
   },
   "outputs": [
    {
     "data": {
      "text/plain": [
       "[1, 2, 3, 4, 5, 6, 7, 8, 9, 10]"
      ]
     },
     "execution_count": 98,
     "metadata": {},
     "output_type": "execute_result"
    }
   ],
   "source": [
    "r = list(r)\n",
    "r"
   ]
  },
  {
   "cell_type": "code",
   "execution_count": 99,
   "id": "9714f7dc",
   "metadata": {
    "ExecuteTime": {
     "end_time": "2023-08-11T07:06:40.973516Z",
     "start_time": "2023-08-11T07:06:40.967074Z"
    }
   },
   "outputs": [
    {
     "data": {
      "text/plain": [
       "(1, 2, 3, 4, 5, 6, 7, 8, 9, 10)"
      ]
     },
     "execution_count": 99,
     "metadata": {},
     "output_type": "execute_result"
    }
   ],
   "source": [
    "r = tuple(r)\n",
    "r"
   ]
  },
  {
   "cell_type": "code",
   "execution_count": 100,
   "id": "da6b71ef",
   "metadata": {
    "ExecuteTime": {
     "end_time": "2023-08-11T07:06:40.984467Z",
     "start_time": "2023-08-11T07:06:40.975654Z"
    }
   },
   "outputs": [
    {
     "data": {
      "text/plain": [
       "[0, 1, 2, 3, 4, 5, 6, 7, 8, 9]"
      ]
     },
     "execution_count": 100,
     "metadata": {},
     "output_type": "execute_result"
    }
   ],
   "source": [
    "r1 = list(range(10))\n",
    "r1"
   ]
  },
  {
   "cell_type": "code",
   "execution_count": 101,
   "id": "53de3f7b",
   "metadata": {
    "ExecuteTime": {
     "end_time": "2023-08-11T07:06:40.993517Z",
     "start_time": "2023-08-11T07:06:40.988137Z"
    }
   },
   "outputs": [
    {
     "data": {
      "text/plain": [
       "[1, 3, 5, 7, 9, 11, 13, 15, 17, 19]"
      ]
     },
     "execution_count": 101,
     "metadata": {},
     "output_type": "execute_result"
    }
   ],
   "source": [
    "r2 = list(range(1, 20, 2))\n",
    "r2"
   ]
  },
  {
   "cell_type": "code",
   "execution_count": 102,
   "id": "ba737beb",
   "metadata": {
    "ExecuteTime": {
     "end_time": "2023-08-11T07:06:41.003038Z",
     "start_time": "2023-08-11T07:06:40.995607Z"
    }
   },
   "outputs": [
    {
     "data": {
      "text/plain": [
       "[0, 2, 4, 6, 8, 10, 12, 14, 16, 18]"
      ]
     },
     "execution_count": 102,
     "metadata": {},
     "output_type": "execute_result"
    }
   ],
   "source": [
    "r3 = list(range(0, 20, 2))\n",
    "r3"
   ]
  },
  {
   "cell_type": "code",
   "execution_count": 103,
   "id": "8f61bab5",
   "metadata": {
    "ExecuteTime": {
     "end_time": "2023-08-11T07:06:41.012142Z",
     "start_time": "2023-08-11T07:06:41.005863Z"
    }
   },
   "outputs": [
    {
     "data": {
      "text/plain": [
       "[0, -2, -4, -6, -8, -10, -12, -14, -16, -18]"
      ]
     },
     "execution_count": 103,
     "metadata": {},
     "output_type": "execute_result"
    }
   ],
   "source": [
    "r4 = list(range(0, -20, -2))\n",
    "r4"
   ]
  },
  {
   "cell_type": "markdown",
   "id": "b1a598fe",
   "metadata": {},
   "source": [
    "## Sets\n",
    "- Unique collection of IMMUTABLE objects/elements/items\n",
    "- { }"
   ]
  },
  {
   "cell_type": "code",
   "execution_count": 104,
   "id": "8a618027",
   "metadata": {
    "ExecuteTime": {
     "end_time": "2023-08-11T07:06:41.020959Z",
     "start_time": "2023-08-11T07:06:41.014102Z"
    }
   },
   "outputs": [
    {
     "data": {
      "text/plain": [
       "set"
      ]
     },
     "execution_count": 104,
     "metadata": {},
     "output_type": "execute_result"
    }
   ],
   "source": [
    "a = {'Sun', 'Mon', 'Tue'}\n",
    "type(a)"
   ]
  },
  {
   "cell_type": "code",
   "execution_count": 105,
   "id": "71137903",
   "metadata": {
    "ExecuteTime": {
     "end_time": "2023-08-11T07:06:41.028752Z",
     "start_time": "2023-08-11T07:06:41.023419Z"
    }
   },
   "outputs": [
    {
     "data": {
      "text/plain": [
       "{1, 2, 3, 4, 5, 6}"
      ]
     },
     "execution_count": 105,
     "metadata": {},
     "output_type": "execute_result"
    }
   ],
   "source": [
    "x = [1, 2, 3, 4, 5, 5, 6, 6, 6]\n",
    "set(x)"
   ]
  },
  {
   "cell_type": "markdown",
   "id": "2b74937e",
   "metadata": {},
   "source": [
    "## Control Statements\n",
    "### if, if-else, if-elif-else"
   ]
  },
  {
   "cell_type": "code",
   "execution_count": 106,
   "id": "1cf67152",
   "metadata": {
    "ExecuteTime": {
     "end_time": "2023-08-11T07:06:41.036617Z",
     "start_time": "2023-08-11T07:06:41.031007Z"
    }
   },
   "outputs": [
    {
     "name": "stdout",
     "output_type": "stream",
     "text": [
      "The Number Is Positive\n"
     ]
    }
   ],
   "source": [
    "num = 10\n",
    "\n",
    "if num >= 0:\n",
    "    print(\"The Number Is Positive\")\n",
    "else:\n",
    "    print(\"The Number Is Negative\")"
   ]
  },
  {
   "cell_type": "code",
   "execution_count": 107,
   "id": "abfc6870",
   "metadata": {
    "ExecuteTime": {
     "end_time": "2023-08-11T07:06:41.049356Z",
     "start_time": "2023-08-11T07:06:41.046324Z"
    }
   },
   "outputs": [],
   "source": [
    "num = -2\n",
    "\n",
    "if num >= 0:\n",
    "    print(\"The Number Is Positive\")"
   ]
  },
  {
   "cell_type": "code",
   "execution_count": 108,
   "id": "04244539",
   "metadata": {
    "ExecuteTime": {
     "end_time": "2023-08-11T07:06:46.155649Z",
     "start_time": "2023-08-11T07:06:41.052120Z"
    }
   },
   "outputs": [
    {
     "name": "stdout",
     "output_type": "stream",
     "text": [
      "Enter a number: 5\n",
      "The Number Is Positive\n"
     ]
    }
   ],
   "source": [
    "num = int(input(\"Enter a number: \"))\n",
    "\n",
    "if num > 0:\n",
    "    print(\"The Number Is Positive\")\n",
    "elif num == 0:\n",
    "    print(\"the Number is zero\")\n",
    "else:\n",
    "    print(\"The Number Is Negative\")"
   ]
  },
  {
   "cell_type": "code",
   "execution_count": 109,
   "id": "a9ec9cee",
   "metadata": {
    "ExecuteTime": {
     "end_time": "2023-08-11T07:06:46.175478Z",
     "start_time": "2023-08-11T07:06:46.163539Z"
    }
   },
   "outputs": [
    {
     "name": "stdout",
     "output_type": "stream",
     "text": [
      "1\n",
      "2\n",
      "3\n",
      "4\n",
      "5\n",
      "6\n",
      "7\n",
      "8\n",
      "9\n",
      "10\n"
     ]
    }
   ],
   "source": [
    "index = 1\n",
    "\n",
    "while index <= 10:\n",
    "    print(index)\n",
    "    index = index + 1"
   ]
  },
  {
   "cell_type": "code",
   "execution_count": 110,
   "id": "35d70b42",
   "metadata": {
    "ExecuteTime": {
     "end_time": "2023-08-11T07:06:46.185635Z",
     "start_time": "2023-08-11T07:06:46.180857Z"
    }
   },
   "outputs": [
    {
     "data": {
      "text/plain": [
       "3.0"
      ]
     },
     "execution_count": 110,
     "metadata": {},
     "output_type": "execute_result"
    }
   ],
   "source": [
    "import math\n",
    "math.sqrt(9)"
   ]
  },
  {
   "cell_type": "code",
   "execution_count": 111,
   "id": "8106010a",
   "metadata": {
    "ExecuteTime": {
     "end_time": "2023-08-11T07:06:46.192931Z",
     "start_time": "2023-08-11T07:06:46.188302Z"
    }
   },
   "outputs": [
    {
     "name": "stdout",
     "output_type": "stream",
     "text": [
      "1 1.0\n",
      "3 1.7320508075688772\n",
      "5 2.23606797749979\n",
      "7 2.6457513110645907\n",
      "9 3.0\n"
     ]
    }
   ],
   "source": [
    "num = list(range(1, 10, 2))\n",
    "for i in num:\n",
    "    print(i, i ** 0.5)"
   ]
  },
  {
   "cell_type": "code",
   "execution_count": 112,
   "id": "20016c4a",
   "metadata": {
    "ExecuteTime": {
     "end_time": "2023-08-11T07:06:46.204893Z",
     "start_time": "2023-08-11T07:06:46.198482Z"
    }
   },
   "outputs": [
    {
     "name": "stdout",
     "output_type": "stream",
     "text": [
      "Name\n",
      "Age\n",
      "Team\n"
     ]
    }
   ],
   "source": [
    "player = {'Name' : 'Virat', 'Age' : 35, 'Team' : 'RCB'}\n",
    "\n",
    "for i in player.keys():\n",
    "    print(i)"
   ]
  },
  {
   "cell_type": "code",
   "execution_count": 113,
   "id": "ac05b966",
   "metadata": {
    "ExecuteTime": {
     "end_time": "2023-08-11T07:06:46.213400Z",
     "start_time": "2023-08-11T07:06:46.208615Z"
    }
   },
   "outputs": [
    {
     "name": "stdout",
     "output_type": "stream",
     "text": [
      "Virat\n",
      "35\n",
      "RCB\n"
     ]
    }
   ],
   "source": [
    "for j in player.values():\n",
    "    print(j)"
   ]
  },
  {
   "cell_type": "code",
   "execution_count": 114,
   "id": "123f4612",
   "metadata": {
    "ExecuteTime": {
     "end_time": "2023-08-11T07:06:46.223292Z",
     "start_time": "2023-08-11T07:06:46.216231Z"
    }
   },
   "outputs": [
    {
     "name": "stdout",
     "output_type": "stream",
     "text": [
      "('Name', 'Virat')\n",
      "('Age', 35)\n",
      "('Team', 'RCB')\n"
     ]
    }
   ],
   "source": [
    "for k in player.items():\n",
    "    print(k)"
   ]
  },
  {
   "cell_type": "code",
   "execution_count": 115,
   "id": "cce1da16",
   "metadata": {
    "ExecuteTime": {
     "end_time": "2023-08-11T07:06:49.478865Z",
     "start_time": "2023-08-11T07:06:46.225777Z"
    }
   },
   "outputs": [
    {
     "name": "stdout",
     "output_type": "stream",
     "text": [
      "Enter a number: 54689\n"
     ]
    },
    {
     "data": {
      "text/plain": [
       "98645"
      ]
     },
     "execution_count": 115,
     "metadata": {},
     "output_type": "execute_result"
    }
   ],
   "source": [
    "num = input(\"Enter a number: \")\n",
    "int(num[::-1])"
   ]
  },
  {
   "cell_type": "code",
   "execution_count": 116,
   "id": "44c1eed8",
   "metadata": {
    "ExecuteTime": {
     "end_time": "2023-08-11T07:06:49.490344Z",
     "start_time": "2023-08-11T07:06:49.482489Z"
    }
   },
   "outputs": [
    {
     "data": {
      "text/plain": [
       "4321"
      ]
     },
     "execution_count": 116,
     "metadata": {},
     "output_type": "execute_result"
    }
   ],
   "source": [
    "num = 1234\n",
    "int(str(num)[::-1])"
   ]
  },
  {
   "cell_type": "code",
   "execution_count": 117,
   "id": "9c3a5bd2",
   "metadata": {
    "ExecuteTime": {
     "end_time": "2023-08-11T07:06:49.500520Z",
     "start_time": "2023-08-11T07:06:49.494546Z"
    }
   },
   "outputs": [
    {
     "data": {
      "text/plain": [
       "10"
      ]
     },
     "execution_count": 117,
     "metadata": {},
     "output_type": "execute_result"
    }
   ],
   "source": [
    "num = [1, 2, 3, 4]\n",
    "sum(num)"
   ]
  },
  {
   "cell_type": "code",
   "execution_count": 118,
   "id": "8bcf76f5",
   "metadata": {
    "ExecuteTime": {
     "end_time": "2023-08-11T07:06:49.520133Z",
     "start_time": "2023-08-11T07:06:49.503494Z"
    }
   },
   "outputs": [
    {
     "name": "stdout",
     "output_type": "stream",
     "text": [
      "10\n"
     ]
    }
   ],
   "source": [
    "num = [1, 2, 3, 4]\n",
    "res = 0\n",
    "for i in num:\n",
    "    res = res + i\n",
    "print(res)"
   ]
  },
  {
   "cell_type": "code",
   "execution_count": 119,
   "id": "8be885e7",
   "metadata": {
    "ExecuteTime": {
     "end_time": "2023-08-11T07:06:54.593579Z",
     "start_time": "2023-08-11T07:06:49.523491Z"
    }
   },
   "outputs": [
    {
     "name": "stdout",
     "output_type": "stream",
     "text": [
      "Enter a number: 10\n",
      "1\n",
      "3\n",
      "5\n",
      "7\n",
      "9\n",
      "25\n"
     ]
    }
   ],
   "source": [
    "x = int(input(\"Enter a number: \"))\n",
    "result = 0\n",
    "for i in list(range(1,x,2)): # step size of 2\n",
    "    result += i\n",
    "    print(i)\n",
    "print(result)"
   ]
  },
  {
   "cell_type": "markdown",
   "id": "8c626826",
   "metadata": {},
   "source": [
    "## Functions"
   ]
  },
  {
   "cell_type": "code",
   "execution_count": 120,
   "id": "d31077ab",
   "metadata": {
    "ExecuteTime": {
     "end_time": "2023-08-11T07:06:54.623751Z",
     "start_time": "2023-08-11T07:06:54.612958Z"
    }
   },
   "outputs": [
    {
     "data": {
      "text/plain": [
       "30"
      ]
     },
     "execution_count": 120,
     "metadata": {},
     "output_type": "execute_result"
    }
   ],
   "source": [
    "def add_two_variables(x, y):\n",
    "    return x + y\n",
    "\n",
    "add_two_variables(10, 20)"
   ]
  },
  {
   "cell_type": "code",
   "execution_count": 121,
   "id": "b1041e0a",
   "metadata": {
    "ExecuteTime": {
     "end_time": "2023-08-11T07:06:54.635305Z",
     "start_time": "2023-08-11T07:06:54.628695Z"
    }
   },
   "outputs": [
    {
     "name": "stdout",
     "output_type": "stream",
     "text": [
      "Hello World\n",
      "Happy\n"
     ]
    }
   ],
   "source": [
    "def SimpleFunction():\n",
    "    print(\"Hello World\")\n",
    "    print(\"Happy\")\n",
    "\n",
    "SimpleFunction()"
   ]
  },
  {
   "cell_type": "code",
   "execution_count": 122,
   "id": "f56c2f50",
   "metadata": {
    "ExecuteTime": {
     "end_time": "2023-08-11T07:06:54.653360Z",
     "start_time": "2023-08-11T07:06:54.639080Z"
    }
   },
   "outputs": [
    {
     "data": {
      "text/plain": [
       "20"
      ]
     },
     "execution_count": 122,
     "metadata": {},
     "output_type": "execute_result"
    }
   ],
   "source": [
    "def FindMax(a, b):\n",
    "    if a > b:\n",
    "        return a\n",
    "    else:\n",
    "        return b\n",
    "        \n",
    "FindMax(10,20)"
   ]
  },
  {
   "cell_type": "code",
   "execution_count": 123,
   "id": "9359c1dd",
   "metadata": {
    "ExecuteTime": {
     "end_time": "2023-08-11T07:06:54.664473Z",
     "start_time": "2023-08-11T07:06:54.656718Z"
    }
   },
   "outputs": [
    {
     "data": {
      "text/plain": [
       "720"
      ]
     },
     "execution_count": 123,
     "metadata": {},
     "output_type": "execute_result"
    }
   ],
   "source": [
    "def factorial(num):\n",
    "    result = 1\n",
    "    \n",
    "    if num == 0:\n",
    "        return 1\n",
    "    for i in range(1, num + 1):\n",
    "        result = result * i\n",
    "    return result\n",
    "\n",
    "factorial(6)"
   ]
  },
  {
   "cell_type": "code",
   "execution_count": 124,
   "id": "872ae7bb",
   "metadata": {
    "ExecuteTime": {
     "end_time": "2023-08-11T07:07:19.227813Z",
     "start_time": "2023-08-11T07:06:54.667655Z"
    }
   },
   "outputs": [
    {
     "name": "stdout",
     "output_type": "stream",
     "text": [
      "Enter a number: 5\n"
     ]
    },
    {
     "data": {
      "text/plain": [
       "120"
      ]
     },
     "execution_count": 124,
     "metadata": {},
     "output_type": "execute_result"
    }
   ],
   "source": [
    "def Factorial():\n",
    "    num = int(input(\"Enter a number: \"))\n",
    "    result = 1\n",
    "    \n",
    "    if num == 0 or num == 1:\n",
    "        return 1\n",
    "    for i in range(1, num + 1):\n",
    "        result = result * i\n",
    "    return result\n",
    "\n",
    "Factorial()"
   ]
  },
  {
   "cell_type": "code",
   "execution_count": 125,
   "id": "52dc785e",
   "metadata": {
    "ExecuteTime": {
     "end_time": "2023-08-11T07:07:33.370371Z",
     "start_time": "2023-08-11T07:07:19.241245Z"
    }
   },
   "outputs": [
    {
     "name": "stdout",
     "output_type": "stream",
     "text": [
      "Enter a number: 6\n",
      "Result:  720\n"
     ]
    }
   ],
   "source": [
    "num = int(input(\"Enter a number: \"))\n",
    "print(\"Result: \" , factorial(num))"
   ]
  },
  {
   "cell_type": "code",
   "execution_count": 126,
   "id": "adfff0b0",
   "metadata": {
    "ExecuteTime": {
     "end_time": "2023-08-11T07:07:33.379841Z",
     "start_time": "2023-08-11T07:07:33.374095Z"
    }
   },
   "outputs": [
    {
     "data": {
      "text/plain": [
       "120"
      ]
     },
     "execution_count": 126,
     "metadata": {},
     "output_type": "execute_result"
    }
   ],
   "source": [
    "# Recursive method\n",
    "\n",
    "def recursiveFact(num):\n",
    "    if num == 0 or num == 1:\n",
    "        return 1\n",
    "    else:\n",
    "        return num * recursiveFact(num - 1)\n",
    "    \n",
    "recursiveFact(5) "
   ]
  },
  {
   "cell_type": "markdown",
   "id": "5ce5024d",
   "metadata": {},
   "source": [
    "## Default Argument"
   ]
  },
  {
   "cell_type": "code",
   "execution_count": 127,
   "id": "bb80ba92",
   "metadata": {
    "ExecuteTime": {
     "end_time": "2023-08-11T07:07:33.389676Z",
     "start_time": "2023-08-11T07:07:33.381853Z"
    }
   },
   "outputs": [
    {
     "name": "stdout",
     "output_type": "stream",
     "text": [
      "The value of x is 5\n"
     ]
    }
   ],
   "source": [
    "def DefaultArg(x = 5):  # Setting default to 5\n",
    "    print(\"The value of x is {}\".format(x))\n",
    "    \n",
    "DefaultArg()"
   ]
  },
  {
   "cell_type": "code",
   "execution_count": 128,
   "id": "a8250fb6",
   "metadata": {
    "ExecuteTime": {
     "end_time": "2023-08-11T07:07:33.401804Z",
     "start_time": "2023-08-11T07:07:33.391732Z"
    }
   },
   "outputs": [
    {
     "name": "stdout",
     "output_type": "stream",
     "text": [
      "The value of x is 123\n"
     ]
    }
   ],
   "source": [
    "DefaultArg(123)"
   ]
  },
  {
   "cell_type": "code",
   "execution_count": 129,
   "id": "a65cfb61",
   "metadata": {
    "ExecuteTime": {
     "end_time": "2023-08-11T07:07:33.410507Z",
     "start_time": "2023-08-11T07:07:33.405240Z"
    }
   },
   "outputs": [
    {
     "name": "stdout",
     "output_type": "stream",
     "text": [
      "The value of x is Hello World\n"
     ]
    }
   ],
   "source": [
    "DefaultArg('Hello World')"
   ]
  },
  {
   "cell_type": "markdown",
   "id": "2be64dbe",
   "metadata": {},
   "source": [
    "## Named / Keyword Argument"
   ]
  },
  {
   "cell_type": "code",
   "execution_count": 130,
   "id": "a004dc22",
   "metadata": {
    "ExecuteTime": {
     "end_time": "2023-08-11T07:07:33.418041Z",
     "start_time": "2023-08-11T07:07:33.412848Z"
    }
   },
   "outputs": [
    {
     "name": "stdout",
     "output_type": "stream",
     "text": [
      "The values are a: 100, b: 200, c: 300\n"
     ]
    }
   ],
   "source": [
    "def namedArg(a, b, c):\n",
    "    print(\"The values are a: {}, b: {}, c: {}\".format(a, b, c))\n",
    "    \n",
    "namedArg(100, 200, 300)"
   ]
  },
  {
   "cell_type": "code",
   "execution_count": 131,
   "id": "4b1b9d8e",
   "metadata": {
    "ExecuteTime": {
     "end_time": "2023-08-11T07:07:33.432380Z",
     "start_time": "2023-08-11T07:07:33.420907Z"
    }
   },
   "outputs": [
    {
     "name": "stdout",
     "output_type": "stream",
     "text": [
      "The values are a: 100, b: 200, c: 300\n"
     ]
    }
   ],
   "source": [
    "namedArg(a = 100, b = 200, c = 300)"
   ]
  },
  {
   "cell_type": "code",
   "execution_count": 132,
   "id": "4bd92dfc",
   "metadata": {
    "ExecuteTime": {
     "end_time": "2023-08-11T07:07:33.442083Z",
     "start_time": "2023-08-11T07:07:33.435958Z"
    }
   },
   "outputs": [
    {
     "name": "stdout",
     "output_type": "stream",
     "text": [
      "The values are a: 200, b: 100, c: 300\n"
     ]
    }
   ],
   "source": [
    "namedArg(b = 100, a = 200, c = 300)"
   ]
  },
  {
   "cell_type": "code",
   "execution_count": 133,
   "id": "490d9491",
   "metadata": {
    "ExecuteTime": {
     "end_time": "2023-08-11T07:07:33.452316Z",
     "start_time": "2023-08-11T07:07:33.446810Z"
    }
   },
   "outputs": [
    {
     "name": "stdout",
     "output_type": "stream",
     "text": [
      "The values are a: 100, b: 200, c: 300\n"
     ]
    }
   ],
   "source": [
    "namedArg(100, b = 200, c = 300)"
   ]
  },
  {
   "cell_type": "markdown",
   "id": "d9444278",
   "metadata": {
    "ExecuteTime": {
     "end_time": "2023-07-05T08:52:24.521623Z",
     "start_time": "2023-07-05T08:52:24.510354Z"
    }
   },
   "source": [
    "## Lambda Function\n",
    "- Functions with no name (Anonymous)\n",
    "- One liner function"
   ]
  },
  {
   "cell_type": "code",
   "execution_count": 134,
   "id": "eb81421b",
   "metadata": {
    "ExecuteTime": {
     "end_time": "2023-08-11T07:07:33.460044Z",
     "start_time": "2023-08-11T07:07:33.455354Z"
    }
   },
   "outputs": [
    {
     "data": {
      "text/plain": [
       "25"
      ]
     },
     "execution_count": 134,
     "metadata": {},
     "output_type": "execute_result"
    }
   ],
   "source": [
    "f = lambda num : num * num\n",
    "f(5)"
   ]
  },
  {
   "cell_type": "code",
   "execution_count": 135,
   "id": "2884b9b1",
   "metadata": {
    "ExecuteTime": {
     "end_time": "2023-08-11T07:07:33.469434Z",
     "start_time": "2023-08-11T07:07:33.462305Z"
    }
   },
   "outputs": [
    {
     "data": {
      "text/plain": [
       "function"
      ]
     },
     "execution_count": 135,
     "metadata": {},
     "output_type": "execute_result"
    }
   ],
   "source": [
    "type(f)"
   ]
  },
  {
   "cell_type": "code",
   "execution_count": 136,
   "id": "909ceb5b",
   "metadata": {
    "ExecuteTime": {
     "end_time": "2023-08-11T07:07:33.477971Z",
     "start_time": "2023-08-11T07:07:33.471622Z"
    }
   },
   "outputs": [
    {
     "name": "stdout",
     "output_type": "stream",
     "text": [
      "4\n"
     ]
    }
   ],
   "source": [
    "print((lambda num : num * num)(2))"
   ]
  },
  {
   "cell_type": "code",
   "execution_count": 137,
   "id": "1dd38dfd",
   "metadata": {
    "ExecuteTime": {
     "end_time": "2023-08-11T07:07:33.486977Z",
     "start_time": "2023-08-11T07:07:33.479774Z"
    }
   },
   "outputs": [
    {
     "data": {
      "text/plain": [
       "'Even'"
      ]
     },
     "execution_count": 137,
     "metadata": {},
     "output_type": "execute_result"
    }
   ],
   "source": [
    "f = lambda x: \"Even\" if x % 2 == 0 else \"odd\"\n",
    "f(4)"
   ]
  },
  {
   "cell_type": "markdown",
   "id": "70b7a228",
   "metadata": {},
   "source": [
    "## Args And Kwargs"
   ]
  },
  {
   "cell_type": "code",
   "execution_count": 138,
   "id": "e95578ea",
   "metadata": {
    "ExecuteTime": {
     "end_time": "2023-08-11T07:07:33.494042Z",
     "start_time": "2023-08-11T07:07:33.489239Z"
    }
   },
   "outputs": [
    {
     "name": "stdout",
     "output_type": "stream",
     "text": [
      "Result: 5\n"
     ]
    }
   ],
   "source": [
    "def args(x, y):\n",
    "    result = x + y\n",
    "    print(\"Result:\", result)\n",
    "args(2, 3)"
   ]
  },
  {
   "cell_type": "code",
   "execution_count": 139,
   "id": "3ab7dd40",
   "metadata": {
    "ExecuteTime": {
     "end_time": "2023-08-11T07:07:33.506775Z",
     "start_time": "2023-08-11T07:07:33.495932Z"
    }
   },
   "outputs": [
    {
     "name": "stdout",
     "output_type": "stream",
     "text": [
      "<class 'tuple'>\n"
     ]
    },
    {
     "data": {
      "text/plain": [
       "21"
      ]
     },
     "execution_count": 139,
     "metadata": {},
     "output_type": "execute_result"
    }
   ],
   "source": [
    "def sumofargs(*args):\n",
    "    print(type(args))\n",
    "    result = 0\n",
    "    for i in args:\n",
    "        result += i\n",
    "    return result\n",
    "sumofargs(1,2,3,4,5,6)"
   ]
  },
  {
   "cell_type": "code",
   "execution_count": 140,
   "id": "728b2468",
   "metadata": {
    "ExecuteTime": {
     "end_time": "2023-08-11T07:07:33.516436Z",
     "start_time": "2023-08-11T07:07:33.509812Z"
    }
   },
   "outputs": [
    {
     "data": {
      "text/plain": [
       "21"
      ]
     },
     "execution_count": 140,
     "metadata": {},
     "output_type": "execute_result"
    }
   ],
   "source": [
    "def SumOfArgs(*args):\n",
    "    '''Function takes variable inputs, performs addition and prints'''\n",
    "    result = 0\n",
    "    for i in args:\n",
    "        result += i\n",
    "    return result\n",
    "\n",
    "SumOfArgs(1,2,3,4,5,6)"
   ]
  },
  {
   "cell_type": "code",
   "execution_count": 141,
   "id": "f4be8a78",
   "metadata": {
    "ExecuteTime": {
     "end_time": "2023-08-11T07:07:33.528146Z",
     "start_time": "2023-08-11T07:07:33.521118Z"
    }
   },
   "outputs": [
    {
     "name": "stdout",
     "output_type": "stream",
     "text": [
      "Kwargs : {'name': 'Virat', 'age': 33, 'Team': 'RCB'}\n",
      "Type of Kwargs : <class 'dict'>\n",
      "k--> name, v--> Virat\n",
      "k--> age, v--> 33\n",
      "k--> Team, v--> RCB\n"
     ]
    }
   ],
   "source": [
    "def PrintPlayerDetails(**kwargs):\n",
    "    print(\"Kwargs :\", kwargs)\n",
    "    print(\"Type of Kwargs :\", type(kwargs))\n",
    "    \n",
    "    for k, v in kwargs.items():\n",
    "        print(\"k--> {}, v--> {}\".format(k,v))\n",
    "        \n",
    "        \n",
    "PrintPlayerDetails(name = \"Virat\", age = 33, Team = \"RCB\")"
   ]
  },
  {
   "cell_type": "markdown",
   "id": "68557420",
   "metadata": {},
   "source": [
    "## Comprehensions"
   ]
  },
  {
   "cell_type": "code",
   "execution_count": 142,
   "id": "003101a1",
   "metadata": {
    "ExecuteTime": {
     "end_time": "2023-08-11T07:07:33.537015Z",
     "start_time": "2023-08-11T07:07:33.530998Z"
    }
   },
   "outputs": [
    {
     "name": "stdout",
     "output_type": "stream",
     "text": [
      "[1, 4, 9, 16, 25, 36, 49, 64, 81, 100]\n"
     ]
    }
   ],
   "source": [
    "n = []\n",
    "for i in range(1,11):\n",
    "    res = i * i\n",
    "    n.append(res)\n",
    "print(n)"
   ]
  },
  {
   "cell_type": "code",
   "execution_count": 143,
   "id": "ab8de76b",
   "metadata": {
    "ExecuteTime": {
     "end_time": "2023-08-11T07:07:33.547139Z",
     "start_time": "2023-08-11T07:07:33.539529Z"
    }
   },
   "outputs": [
    {
     "data": {
      "text/plain": [
       "[1, 4, 9, 16, 25, 36, 49, 64, 81, 100]"
      ]
     },
     "execution_count": 143,
     "metadata": {},
     "output_type": "execute_result"
    }
   ],
   "source": [
    "n = [i * i for i in range(1, 11)]\n",
    "n"
   ]
  },
  {
   "cell_type": "code",
   "execution_count": 144,
   "id": "0ff41a35",
   "metadata": {
    "ExecuteTime": {
     "end_time": "2023-08-11T07:07:33.553980Z",
     "start_time": "2023-08-11T07:07:33.549847Z"
    }
   },
   "outputs": [],
   "source": [
    "# Write a program to print all numbers between 1 to 21 and which are divisible by 2"
   ]
  },
  {
   "cell_type": "code",
   "execution_count": 145,
   "id": "f112656b",
   "metadata": {
    "ExecuteTime": {
     "end_time": "2023-08-11T07:07:33.563530Z",
     "start_time": "2023-08-11T07:07:33.556526Z"
    }
   },
   "outputs": [
    {
     "name": "stdout",
     "output_type": "stream",
     "text": [
      "[2, 4, 6, 8, 10, 12, 14, 16, 18, 20]\n"
     ]
    }
   ],
   "source": [
    "# Traditional way\n",
    "lst = []\n",
    "for i in range(1,21):\n",
    "    if i % 2 == 0:\n",
    "        lst.append(i)\n",
    "print(lst)"
   ]
  },
  {
   "cell_type": "code",
   "execution_count": 146,
   "id": "15357ef3",
   "metadata": {
    "ExecuteTime": {
     "end_time": "2023-08-11T07:07:33.574356Z",
     "start_time": "2023-08-11T07:07:33.565817Z"
    }
   },
   "outputs": [
    {
     "data": {
      "text/plain": [
       "[2, 4, 6, 8, 10, 12, 14, 16, 18, 20]"
      ]
     },
     "execution_count": 146,
     "metadata": {},
     "output_type": "execute_result"
    }
   ],
   "source": [
    "lst = [i for i in range(1,21) if (i % 2) == 0]\n",
    "lst"
   ]
  },
  {
   "cell_type": "code",
   "execution_count": 147,
   "id": "cb18a1cc",
   "metadata": {
    "ExecuteTime": {
     "end_time": "2023-08-11T07:07:33.582298Z",
     "start_time": "2023-08-11T07:07:33.576364Z"
    }
   },
   "outputs": [
    {
     "name": "stdout",
     "output_type": "stream",
     "text": [
      "['M', 't', 'h', 'm', 't', 'c', 's']\n"
     ]
    }
   ],
   "source": [
    "subject = \"Mathemetics\"\n",
    "vowels = ['a', 'e', 'i', 'o', 'u', 'A', 'E', 'I', 'O', 'U']\n",
    "cons = []\n",
    "for i in subject:\n",
    "    if i not in vowels:\n",
    "        cons.append(i)\n",
    "print(cons)"
   ]
  },
  {
   "cell_type": "code",
   "execution_count": 148,
   "id": "2472c77f",
   "metadata": {
    "ExecuteTime": {
     "end_time": "2023-08-11T07:07:33.591017Z",
     "start_time": "2023-08-11T07:07:33.584163Z"
    }
   },
   "outputs": [
    {
     "name": "stdout",
     "output_type": "stream",
     "text": [
      "['M', 'T', 'H', 'M', 'T', 'C', 'S']\n"
     ]
    }
   ],
   "source": [
    "subject = 'MATHEMATICS'\n",
    "result = []\n",
    "for i in subject:\n",
    "    if i not in 'AEIOU':\n",
    "        result.append(i)\n",
    "print(result)"
   ]
  },
  {
   "cell_type": "code",
   "execution_count": 149,
   "id": "620b7fcb",
   "metadata": {
    "ExecuteTime": {
     "end_time": "2023-08-11T07:07:33.600576Z",
     "start_time": "2023-08-11T07:07:33.592779Z"
    }
   },
   "outputs": [
    {
     "name": "stdout",
     "output_type": "stream",
     "text": [
      "['M', 'T', 'H', 'M', 'T', 'C', 'S']\n"
     ]
    }
   ],
   "source": [
    "# subject = input(\"Enter a string: \")\n",
    "result = []\n",
    "for i in subject:\n",
    "    if i not in 'AEIOUaeiou':\n",
    "        result.append(i)\n",
    "\n",
    "print(result)"
   ]
  },
  {
   "cell_type": "code",
   "execution_count": 150,
   "id": "0053cf4a",
   "metadata": {
    "ExecuteTime": {
     "end_time": "2023-08-11T07:07:33.609866Z",
     "start_time": "2023-08-11T07:07:33.602728Z"
    }
   },
   "outputs": [
    {
     "data": {
      "text/plain": [
       "['M', 'T', 'H', 'M', 'T', 'C', 'S']"
      ]
     },
     "execution_count": 150,
     "metadata": {},
     "output_type": "execute_result"
    }
   ],
   "source": [
    "sub = [i for i in subject if i not in 'AEIOU']\n",
    "sub"
   ]
  },
  {
   "cell_type": "code",
   "execution_count": 151,
   "id": "fd9d1116",
   "metadata": {
    "ExecuteTime": {
     "end_time": "2023-08-11T07:07:33.617330Z",
     "start_time": "2023-08-11T07:07:33.611812Z"
    }
   },
   "outputs": [
    {
     "name": "stdout",
     "output_type": "stream",
     "text": [
      "['www.amazon.com', 'www.flipkart.com', 'www.sanpdeal.com']\n"
     ]
    }
   ],
   "source": [
    "companies = ['amazon', 'flipkart', 'sanpdeal']\n",
    "website = []\n",
    "for i in companies:\n",
    "    res = (\"www.\" + i + \".com\")\n",
    "    website.append(res)\n",
    "print(website)"
   ]
  },
  {
   "cell_type": "code",
   "execution_count": 152,
   "id": "c85cfa14",
   "metadata": {
    "ExecuteTime": {
     "end_time": "2023-08-11T07:07:33.628175Z",
     "start_time": "2023-08-11T07:07:33.622143Z"
    }
   },
   "outputs": [
    {
     "data": {
      "text/plain": [
       "['www.amazon.com', 'www.flipkart.com', 'www.sanpdeal.com']"
      ]
     },
     "execution_count": 152,
     "metadata": {},
     "output_type": "execute_result"
    }
   ],
   "source": [
    "c = ['www.{}.com'.format(i) for i in companies]\n",
    "c"
   ]
  },
  {
   "cell_type": "code",
   "execution_count": 153,
   "id": "5e29e657",
   "metadata": {
    "ExecuteTime": {
     "end_time": "2023-08-11T07:07:33.638434Z",
     "start_time": "2023-08-11T07:07:33.630766Z"
    }
   },
   "outputs": [
    {
     "data": {
      "text/plain": [
       "['www.amazon.com', 'www.flipkart.com', 'www.sanpdeal.com']"
      ]
     },
     "execution_count": 153,
     "metadata": {},
     "output_type": "execute_result"
    }
   ],
   "source": [
    "c = [\"www.\" + i + \".com\" for i in companies]\n",
    "c"
   ]
  },
  {
   "cell_type": "code",
   "execution_count": 154,
   "id": "3853e3cb",
   "metadata": {
    "ExecuteTime": {
     "end_time": "2023-08-11T07:07:33.646385Z",
     "start_time": "2023-08-11T07:07:33.642021Z"
    }
   },
   "outputs": [],
   "source": [
    "s = \"Welcome to the world of Python Programming\""
   ]
  },
  {
   "cell_type": "code",
   "execution_count": 155,
   "id": "0f64f63c",
   "metadata": {
    "ExecuteTime": {
     "end_time": "2023-08-11T07:07:33.661401Z",
     "start_time": "2023-08-11T07:07:33.653595Z"
    }
   },
   "outputs": [
    {
     "data": {
      "text/plain": [
       "[('Welcome', 7),\n",
       " ('to', 2),\n",
       " ('the', 3),\n",
       " ('world', 5),\n",
       " ('of', 2),\n",
       " ('Python', 6),\n",
       " ('Programming', 11)]"
      ]
     },
     "execution_count": 155,
     "metadata": {},
     "output_type": "execute_result"
    }
   ],
   "source": [
    "a = []\n",
    "for i in s.split():\n",
    "    res = (i, len(i))\n",
    "    a.append(res)\n",
    "    \n",
    "a"
   ]
  },
  {
   "cell_type": "code",
   "execution_count": 156,
   "id": "bf225474",
   "metadata": {
    "ExecuteTime": {
     "end_time": "2023-08-11T07:07:33.670720Z",
     "start_time": "2023-08-11T07:07:33.664314Z"
    }
   },
   "outputs": [
    {
     "data": {
      "text/plain": [
       "[('Welcome', 7),\n",
       " ('to', 2),\n",
       " ('the', 3),\n",
       " ('world', 5),\n",
       " ('of', 2),\n",
       " ('Python', 6),\n",
       " ('Programming', 11)]"
      ]
     },
     "execution_count": 156,
     "metadata": {},
     "output_type": "execute_result"
    }
   ],
   "source": [
    "s = [(i, len(i)) for i in s.split()]\n",
    "s"
   ]
  },
  {
   "cell_type": "code",
   "execution_count": 157,
   "id": "62e60f31",
   "metadata": {
    "ExecuteTime": {
     "end_time": "2023-08-11T07:07:33.678847Z",
     "start_time": "2023-08-11T07:07:33.673648Z"
    }
   },
   "outputs": [
    {
     "name": "stdout",
     "output_type": "stream",
     "text": [
      "203\n",
      "217\n",
      "224\n",
      "231\n",
      "238\n",
      "252\n",
      "259\n",
      "266\n",
      "273\n",
      "287\n",
      "294\n",
      "301\n",
      "308\n"
     ]
    }
   ],
   "source": [
    "for i in range(200,321):\n",
    "    if (i%7) == 0 and (i%5)!= 0:\n",
    "        print(i)"
   ]
  },
  {
   "cell_type": "code",
   "execution_count": 158,
   "id": "cc1afcd7",
   "metadata": {
    "ExecuteTime": {
     "end_time": "2023-08-11T07:07:33.691508Z",
     "start_time": "2023-08-11T07:07:33.683688Z"
    }
   },
   "outputs": [
    {
     "data": {
      "text/plain": [
       "[203, 217, 224, 231, 238, 252, 259, 266, 273, 287, 294, 301, 308]"
      ]
     },
     "execution_count": 158,
     "metadata": {},
     "output_type": "execute_result"
    }
   ],
   "source": [
    "x = [i for i in range(200,321) if (i%7) == 0 and (i%5) != 0]\n",
    "x"
   ]
  },
  {
   "cell_type": "code",
   "execution_count": 159,
   "id": "52336792",
   "metadata": {
    "ExecuteTime": {
     "end_time": "2023-08-11T07:07:33.702118Z",
     "start_time": "2023-08-11T07:07:33.695512Z"
    }
   },
   "outputs": [
    {
     "data": {
      "text/plain": [
       "['203',\n",
       " '217',\n",
       " '224',\n",
       " '231',\n",
       " '238',\n",
       " '252',\n",
       " '259',\n",
       " '266',\n",
       " '273',\n",
       " '287',\n",
       " '294',\n",
       " '301',\n",
       " '308']"
      ]
     },
     "execution_count": 159,
     "metadata": {},
     "output_type": "execute_result"
    }
   ],
   "source": [
    "x = [str(i) for i in range(200,321) if (i%7) == 0 and (i%5) != 0]\n",
    "x"
   ]
  },
  {
   "cell_type": "code",
   "execution_count": 160,
   "id": "bbb4a7c7",
   "metadata": {
    "ExecuteTime": {
     "end_time": "2023-08-11T07:07:33.710551Z",
     "start_time": "2023-08-11T07:07:33.705918Z"
    }
   },
   "outputs": [
    {
     "name": "stdout",
     "output_type": "stream",
     "text": [
      "203,217,224,231,238,252,259,266,273,287,294,301,308\n"
     ]
    }
   ],
   "source": [
    "print(\",\".join(x))"
   ]
  },
  {
   "cell_type": "markdown",
   "id": "63f3e61c",
   "metadata": {},
   "source": [
    "## Dictionary Comprehension"
   ]
  },
  {
   "cell_type": "code",
   "execution_count": 161,
   "id": "b0e2094b",
   "metadata": {
    "ExecuteTime": {
     "end_time": "2023-08-11T07:07:33.718527Z",
     "start_time": "2023-08-11T07:07:33.712346Z"
    }
   },
   "outputs": [
    {
     "name": "stdout",
     "output_type": "stream",
     "text": [
      "{0: 0, 5: 25, 10: 100, 15: 225}\n"
     ]
    }
   ],
   "source": [
    "result = {}\n",
    "for i in range(0,20,5):\n",
    "    result[i] = i * i\n",
    "print(result)"
   ]
  },
  {
   "cell_type": "code",
   "execution_count": 162,
   "id": "4213285e",
   "metadata": {
    "ExecuteTime": {
     "end_time": "2023-08-11T07:07:33.727576Z",
     "start_time": "2023-08-11T07:07:33.720499Z"
    }
   },
   "outputs": [
    {
     "data": {
      "text/plain": [
       "{0: 0, 5: 25, 10: 100, 15: 225}"
      ]
     },
     "execution_count": 162,
     "metadata": {},
     "output_type": "execute_result"
    }
   ],
   "source": [
    "result = {i: i * i for i in range(0,20,5)}\n",
    "result"
   ]
  },
  {
   "cell_type": "code",
   "execution_count": 163,
   "id": "29922c18",
   "metadata": {
    "ExecuteTime": {
     "end_time": "2023-08-11T07:07:33.734281Z",
     "start_time": "2023-08-11T07:07:33.729719Z"
    }
   },
   "outputs": [],
   "source": [
    "s = \"the quick brown fox jumps over the lazy dog\""
   ]
  },
  {
   "cell_type": "code",
   "execution_count": 164,
   "id": "60c7e701",
   "metadata": {
    "ExecuteTime": {
     "end_time": "2023-08-11T07:07:33.742647Z",
     "start_time": "2023-08-11T07:07:33.736448Z"
    }
   },
   "outputs": [
    {
     "name": "stdout",
     "output_type": "stream",
     "text": [
      "{'t': 2, 'h': 2, 'e': 3, ' ': 8, 'q': 1, 'u': 2, 'i': 1, 'c': 1, 'k': 1, 'b': 1, 'r': 2, 'o': 4, 'w': 1, 'n': 1, 'f': 1, 'x': 1, 'j': 1, 'm': 1, 'p': 1, 's': 1, 'v': 1, 'l': 1, 'a': 1, 'z': 1, 'y': 1, 'd': 1, 'g': 1}\n"
     ]
    }
   ],
   "source": [
    "r = {}\n",
    "for i in s:\n",
    "    if i in r:\n",
    "        r[i] = r[i] + 1\n",
    "    else:\n",
    "        r[i] = 1\n",
    "\n",
    "print(r)\n",
    "    "
   ]
  },
  {
   "cell_type": "code",
   "execution_count": 165,
   "id": "a2fe3b0f",
   "metadata": {
    "ExecuteTime": {
     "end_time": "2023-08-11T07:07:33.753742Z",
     "start_time": "2023-08-11T07:07:33.744814Z"
    }
   },
   "outputs": [
    {
     "name": "stdout",
     "output_type": "stream",
     "text": [
      "{'t': 2, 'h': 2, 'e': 3, ' ': 8, 'q': 1, 'u': 2, 'i': 1, 'c': 1, 'k': 1, 'b': 1, 'r': 2, 'o': 4, 'w': 1, 'n': 1, 'f': 1, 'x': 1, 'j': 1, 'm': 1, 'p': 1, 's': 1, 'v': 1, 'l': 1, 'a': 1, 'z': 1, 'y': 1, 'd': 1, 'g': 1}\n"
     ]
    }
   ],
   "source": [
    "d = dict()\n",
    "for i in s:\n",
    "    if i in d:\n",
    "        d[i] = d[i] + 1\n",
    "    else:\n",
    "        d[i] = 1\n",
    "print(d)"
   ]
  },
  {
   "cell_type": "code",
   "execution_count": 166,
   "id": "fdcb461f",
   "metadata": {
    "ExecuteTime": {
     "end_time": "2023-08-11T07:07:33.765644Z",
     "start_time": "2023-08-11T07:07:33.757659Z"
    }
   },
   "outputs": [
    {
     "data": {
      "text/plain": [
       "{'t': 2,\n",
       " 'h': 2,\n",
       " 'e': 3,\n",
       " ' ': 8,\n",
       " 'q': 1,\n",
       " 'u': 2,\n",
       " 'i': 1,\n",
       " 'c': 1,\n",
       " 'k': 1,\n",
       " 'b': 1,\n",
       " 'r': 2,\n",
       " 'o': 4,\n",
       " 'w': 1,\n",
       " 'n': 1,\n",
       " 'f': 1,\n",
       " 'x': 1,\n",
       " 'j': 1,\n",
       " 'm': 1,\n",
       " 'p': 1,\n",
       " 's': 1,\n",
       " 'v': 1,\n",
       " 'l': 1,\n",
       " 'a': 1,\n",
       " 'z': 1,\n",
       " 'y': 1,\n",
       " 'd': 1,\n",
       " 'g': 1}"
      ]
     },
     "execution_count": 166,
     "metadata": {},
     "output_type": "execute_result"
    }
   ],
   "source": [
    "result = {i: s.count(i) for i in s}\n",
    "result"
   ]
  },
  {
   "cell_type": "code",
   "execution_count": 167,
   "id": "09d9f972",
   "metadata": {
    "ExecuteTime": {
     "end_time": "2023-08-11T07:07:33.775668Z",
     "start_time": "2023-08-11T07:07:33.770479Z"
    }
   },
   "outputs": [
    {
     "data": {
      "text/plain": [
       "{'the': 2,\n",
       " 'quick': 1,\n",
       " 'brown': 1,\n",
       " 'fox': 1,\n",
       " 'jumps': 1,\n",
       " 'over': 1,\n",
       " 'lazy': 1,\n",
       " 'dog': 1}"
      ]
     },
     "execution_count": 167,
     "metadata": {},
     "output_type": "execute_result"
    }
   ],
   "source": [
    "result = {i: s.count(i) for i in s.split()}\n",
    "result"
   ]
  },
  {
   "cell_type": "markdown",
   "id": "707ad2ad",
   "metadata": {},
   "source": [
    "## Local Variable"
   ]
  },
  {
   "cell_type": "code",
   "execution_count": 168,
   "id": "105fa06c",
   "metadata": {
    "ExecuteTime": {
     "end_time": "2023-08-11T07:07:33.799132Z",
     "start_time": "2023-08-11T07:07:33.795675Z"
    }
   },
   "outputs": [
    {
     "name": "stdout",
     "output_type": "stream",
     "text": [
      "The value of 'a' inside myFunction is:  LocalPythonObject\n"
     ]
    }
   ],
   "source": [
    "def myFunction():\n",
    "    a = \"LocalPythonObject\"\n",
    "    print(\"The value of 'a' inside myFunction is: \", a)\n",
    "\n",
    "myFunction()"
   ]
  },
  {
   "cell_type": "code",
   "execution_count": 169,
   "id": "6fd91bc4",
   "metadata": {
    "ExecuteTime": {
     "end_time": "2023-08-11T07:07:33.811103Z",
     "start_time": "2023-08-11T07:07:33.801088Z"
    }
   },
   "outputs": [
    {
     "name": "stdout",
     "output_type": "stream",
     "text": [
      "The value of 'a' inside myFunction is:  LocalPythonObject\n",
      "The value of 'a' inside myFunction is:  LocalPythonObject\n"
     ]
    }
   ],
   "source": [
    "a = 5\n",
    "def myFunction():\n",
    "    global a # global is a keyword and can be referenced outside the function\n",
    "    a = \"LocalPythonObject\"\n",
    "    print(\"The value of 'a' inside myFunction is: \", a)\n",
    "\n",
    "myFunction()\n",
    "print(\"The value of 'a' inside myFunction is: \", a)"
   ]
  },
  {
   "cell_type": "code",
   "execution_count": 170,
   "id": "5cd15dc3",
   "metadata": {
    "ExecuteTime": {
     "end_time": "2023-08-11T07:07:33.822767Z",
     "start_time": "2023-08-11T07:07:33.814642Z"
    }
   },
   "outputs": [
    {
     "name": "stdout",
     "output_type": "stream",
     "text": [
      "The value inside LocalFunction is:  2\n",
      "The value inside GlobalFunction is:  3\n",
      "The value of inside Main is:  3\n"
     ]
    }
   ],
   "source": [
    "runscored = 1\n",
    "def LocalFunction():\n",
    "    runscored = 2\n",
    "    print(\"The value inside LocalFunction is: \", runscored)\n",
    "\n",
    "LocalFunction()\n",
    "\n",
    "def GlobalFunction():\n",
    "    global runscored\n",
    "    runscored = 3\n",
    "    print(\"The value inside GlobalFunction is: \", runscored)\n",
    "\n",
    "GlobalFunction()\n",
    "print(\"The value of inside Main is: \", runscored)"
   ]
  },
  {
   "cell_type": "markdown",
   "id": "4275104c",
   "metadata": {},
   "source": [
    " ## Classes And Objects"
   ]
  },
  {
   "cell_type": "code",
   "execution_count": 171,
   "id": "9a834d59",
   "metadata": {
    "ExecuteTime": {
     "end_time": "2023-08-11T07:07:33.829436Z",
     "start_time": "2023-08-11T07:07:33.825486Z"
    }
   },
   "outputs": [],
   "source": [
    "class employee:\n",
    "    pass\n",
    "\n",
    "e1 = employee()\n",
    "e2 = employee()"
   ]
  },
  {
   "cell_type": "code",
   "execution_count": 172,
   "id": "a234c9fb",
   "metadata": {
    "ExecuteTime": {
     "end_time": "2023-08-11T07:07:33.838364Z",
     "start_time": "2023-08-11T07:07:33.831383Z"
    }
   },
   "outputs": [],
   "source": [
    "class employee:\n",
    "    def __init__(self, fn, ln):\n",
    "        self.fn = fn\n",
    "        self.ln = ln"
   ]
  },
  {
   "cell_type": "code",
   "execution_count": 173,
   "id": "3edeb844",
   "metadata": {
    "ExecuteTime": {
     "end_time": "2023-08-11T07:07:33.845483Z",
     "start_time": "2023-08-11T07:07:33.840604Z"
    }
   },
   "outputs": [],
   "source": [
    "e1 = employee(\"Sachin\", \"Tendulkar\")\n",
    "e2 = employee(\"Virat\", \"Kohli\")"
   ]
  },
  {
   "cell_type": "code",
   "execution_count": 174,
   "id": "fa9c5467",
   "metadata": {
    "ExecuteTime": {
     "end_time": "2023-08-11T07:07:33.854208Z",
     "start_time": "2023-08-11T07:07:33.847515Z"
    }
   },
   "outputs": [
    {
     "data": {
      "text/plain": [
       "{'fn': 'Sachin', 'ln': 'Tendulkar'}"
      ]
     },
     "execution_count": 174,
     "metadata": {},
     "output_type": "execute_result"
    }
   ],
   "source": [
    "e1.__dict__"
   ]
  },
  {
   "cell_type": "code",
   "execution_count": 175,
   "id": "7147bf6d",
   "metadata": {
    "ExecuteTime": {
     "end_time": "2023-08-11T07:07:33.862140Z",
     "start_time": "2023-08-11T07:07:33.856464Z"
    }
   },
   "outputs": [
    {
     "data": {
      "text/plain": [
       "{'fn': 'Virat', 'ln': 'Kohli'}"
      ]
     },
     "execution_count": 175,
     "metadata": {},
     "output_type": "execute_result"
    }
   ],
   "source": [
    "e2.__dict__"
   ]
  },
  {
   "cell_type": "code",
   "execution_count": 176,
   "id": "8af9388e",
   "metadata": {
    "ExecuteTime": {
     "end_time": "2023-08-11T07:07:33.869744Z",
     "start_time": "2023-08-11T07:07:33.864358Z"
    }
   },
   "outputs": [],
   "source": [
    "class Student:\n",
    "    def __init__(self, name):\n",
    "        self.name = name\n",
    "        self.grades = []\n",
    "        \n",
    "    def addgrade(self, marks):\n",
    "        self.grades.append(marks)"
   ]
  },
  {
   "cell_type": "code",
   "execution_count": 177,
   "id": "fe405dc2",
   "metadata": {
    "ExecuteTime": {
     "end_time": "2023-08-11T07:07:33.883511Z",
     "start_time": "2023-08-11T07:07:33.872821Z"
    }
   },
   "outputs": [
    {
     "data": {
      "text/plain": [
       "{'name': 'Rahane', 'grades': []}"
      ]
     },
     "execution_count": 177,
     "metadata": {},
     "output_type": "execute_result"
    }
   ],
   "source": [
    "s1 = Student(\"Rahane\")\n",
    "s1.__dict__"
   ]
  },
  {
   "cell_type": "code",
   "execution_count": 178,
   "id": "7d243be5",
   "metadata": {
    "ExecuteTime": {
     "end_time": "2023-08-11T07:07:33.894577Z",
     "start_time": "2023-08-11T07:07:33.886647Z"
    }
   },
   "outputs": [
    {
     "data": {
      "text/plain": [
       "{'name': 'Rahane', 'grades': [10]}"
      ]
     },
     "execution_count": 178,
     "metadata": {},
     "output_type": "execute_result"
    }
   ],
   "source": [
    "s1.addgrade(10)\n",
    "s1.__dict__"
   ]
  },
  {
   "cell_type": "code",
   "execution_count": 179,
   "id": "c4dedb20",
   "metadata": {
    "ExecuteTime": {
     "end_time": "2023-08-11T07:07:33.901057Z",
     "start_time": "2023-08-11T07:07:33.896460Z"
    }
   },
   "outputs": [],
   "source": [
    "class Student:\n",
    "    def __init__(self, name):\n",
    "        self.name = name\n",
    "        self.grades = []\n",
    "        \n",
    "    def addgrade(self, marks):\n",
    "        self.grades.append(marks)\n",
    "        \n",
    "    def totalmarks(self):\n",
    "        return sum(grades)"
   ]
  },
  {
   "cell_type": "code",
   "execution_count": 180,
   "id": "63005bc2",
   "metadata": {
    "ExecuteTime": {
     "end_time": "2023-08-11T07:07:33.908486Z",
     "start_time": "2023-08-11T07:07:33.903310Z"
    }
   },
   "outputs": [],
   "source": [
    "s1.addgrade(9)"
   ]
  },
  {
   "cell_type": "code",
   "execution_count": 181,
   "id": "76419a14",
   "metadata": {
    "ExecuteTime": {
     "end_time": "2023-08-11T07:07:33.917858Z",
     "start_time": "2023-08-11T07:07:33.910949Z"
    }
   },
   "outputs": [
    {
     "data": {
      "text/plain": [
       "{'name': 'Rahane', 'grades': [10, 9]}"
      ]
     },
     "execution_count": 181,
     "metadata": {},
     "output_type": "execute_result"
    }
   ],
   "source": [
    "s1.__dict__"
   ]
  },
  {
   "cell_type": "code",
   "execution_count": 182,
   "id": "ab8326d1",
   "metadata": {
    "ExecuteTime": {
     "end_time": "2023-08-11T07:07:33.929686Z",
     "start_time": "2023-08-11T07:07:33.920896Z"
    }
   },
   "outputs": [
    {
     "name": "stdout",
     "output_type": "stream",
     "text": [
      "['this', 'is', 'a', 'string']\n",
      "this-is-a-string\n"
     ]
    }
   ],
   "source": [
    "a = \"this is a string\"\n",
    "a = a.split(\" \")\n",
    "print(a)\n",
    "a = '-'.join(a)\n",
    "print(a)"
   ]
  },
  {
   "cell_type": "code",
   "execution_count": 183,
   "id": "a4b0930a",
   "metadata": {
    "ExecuteTime": {
     "end_time": "2023-08-11T07:07:33.942140Z",
     "start_time": "2023-08-11T07:07:33.932753Z"
    }
   },
   "outputs": [
    {
     "data": {
      "text/plain": [
       "'hACKERrANK.COM PRESENTS pYTHONIST 2.'"
      ]
     },
     "execution_count": 183,
     "metadata": {},
     "output_type": "execute_result"
    }
   ],
   "source": [
    "s = \"HackerRank.com presents Pythonist 2.\"\n",
    "res = []\n",
    "for i in s:\n",
    "    if i == i.lower():\n",
    "        res.append(i.upper())\n",
    "    elif i == i.upper():\n",
    "        res.append(i.lower())\n",
    "    else:\n",
    "        res.append(i)\n",
    "''.join(res)   "
   ]
  },
  {
   "cell_type": "code",
   "execution_count": 199,
   "id": "163f4870",
   "metadata": {
    "ExecuteTime": {
     "end_time": "2023-08-11T07:18:05.566428Z",
     "start_time": "2023-08-11T07:18:05.557147Z"
    }
   },
   "outputs": [
    {
     "name": "stdout",
     "output_type": "stream",
     "text": [
      "True\n",
      "True\n",
      "True\n",
      "True\n",
      "True\n"
     ]
    }
   ],
   "source": [
    "s = \"qA3\"\n",
    "\n",
    "res = False\n",
    "for i in s:\n",
    "    if i.isalnum():\n",
    "        res = True\n",
    "        break\n",
    "print(res)\n",
    "\n",
    "res = False\n",
    "for j in s:\n",
    "    if j.isalpha():\n",
    "        res = True\n",
    "        break\n",
    "print(res)\n",
    "\n",
    "res = False\n",
    "for k in s:\n",
    "    if k.isdigit():\n",
    "        res = True\n",
    "        break\n",
    "print(res)\n",
    "\n",
    "res = False\n",
    "for l in s:\n",
    "    if l.islower():\n",
    "        res = True\n",
    "        break\n",
    "print(res)\n",
    "\n",
    "res = False\n",
    "for l in s:\n",
    "    if l.isupper():\n",
    "        res = True\n",
    "        break\n",
    "print(res)\n",
    "            "
   ]
  },
  {
   "cell_type": "code",
   "execution_count": null,
   "id": "cd33a876",
   "metadata": {},
   "outputs": [],
   "source": []
  },
  {
   "cell_type": "code",
   "execution_count": null,
   "id": "94c38424",
   "metadata": {},
   "outputs": [],
   "source": []
  },
  {
   "cell_type": "code",
   "execution_count": null,
   "id": "5cb2778b",
   "metadata": {},
   "outputs": [],
   "source": []
  },
  {
   "cell_type": "code",
   "execution_count": null,
   "id": "84ea550d",
   "metadata": {},
   "outputs": [],
   "source": []
  },
  {
   "cell_type": "code",
   "execution_count": null,
   "id": "a6dd2538",
   "metadata": {},
   "outputs": [],
   "source": []
  },
  {
   "cell_type": "code",
   "execution_count": null,
   "id": "fd5e0443",
   "metadata": {},
   "outputs": [],
   "source": []
  }
 ],
 "metadata": {
  "kernelspec": {
   "display_name": "Python 3 (ipykernel)",
   "language": "python",
   "name": "python3"
  },
  "language_info": {
   "codemirror_mode": {
    "name": "ipython",
    "version": 3
   },
   "file_extension": ".py",
   "mimetype": "text/x-python",
   "name": "python",
   "nbconvert_exporter": "python",
   "pygments_lexer": "ipython3",
   "version": "3.10.12"
  },
  "varInspector": {
   "cols": {
    "lenName": 16,
    "lenType": 16,
    "lenVar": 40
   },
   "kernels_config": {
    "python": {
     "delete_cmd_postfix": "",
     "delete_cmd_prefix": "del ",
     "library": "var_list.py",
     "varRefreshCmd": "print(var_dic_list())"
    },
    "r": {
     "delete_cmd_postfix": ") ",
     "delete_cmd_prefix": "rm(",
     "library": "var_list.r",
     "varRefreshCmd": "cat(var_dic_list()) "
    }
   },
   "types_to_exclude": [
    "module",
    "function",
    "builtin_function_or_method",
    "instance",
    "_Feature"
   ],
   "window_display": false
  }
 },
 "nbformat": 4,
 "nbformat_minor": 5
}
