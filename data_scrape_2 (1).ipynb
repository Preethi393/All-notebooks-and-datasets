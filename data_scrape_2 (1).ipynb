{
 "cells": [
  {
   "cell_type": "markdown",
   "id": "fd15051b",
   "metadata": {},
   "source": [
    "#  Create a web crawler using python that is able to scrape first, 10000 results for the following  google search input - site:youtube.com openinapp.co\n",
    "# Collect link to YouTube channel.\n",
    "# Give the results in the json/csv format\n",
    "# Note - Try to use IP proxies. For Example - ScrappingBee."
   ]
  },
  {
   "cell_type": "code",
   "execution_count": null,
   "id": "0a9d4275",
   "metadata": {
    "ExecuteTime": {
     "start_time": "2023-06-02T10:29:08.922Z"
    }
   },
   "outputs": [],
   "source": [
    "import requests\n",
    "from bs4 import BeautifulSoup\n",
    "import json\n",
    "import csv\n",
    "\n",
    "# Set up your API key and search engine ID\n",
    "API_KEY = \"O68OM9R0PDN7L5R7F5RQN61TBV3J92MVN6MIQDR7YOVDAP8XQ24W2M8B7OGN0EOPSGZ4J9NKRM1H8A3F\"\n",
    "SEARCH_ENGINE_ID = \"https://www.google.com/search\"\n",
    "\n",
    "# Set up the query and number of results to scrape\n",
    "query = \"site:youtube.com openinapp.co\"\n",
    "num_results = 10000\n",
    "\n",
    "# Set up the base URL for the Google Search API\n",
    "base_url = \"https://www.googleapis.com/customsearch/v1\"\n",
    "\n",
    "# Set up the parameters for the API request\n",
    "params = {\n",
    "    \"key\": API_KEY,\n",
    "    \"cx\": SEARCH_ENGINE_ID,\n",
    "    \"q\": query,\n",
    "    \"num\": 10,  # Maximum number of results per API request (max: 10)\n",
    "    \"start\": 1,  # Starting index of the search results\n",
    "}\n",
    "\n",
    "# Initialize an empty list to store the YouTube channel links\n",
    "youtube_channels = []\n",
    "\n",
    "# Loop through the API requests to get the desired number of results\n",
    "while len(youtube_channels) < num_results:\n",
    "    # Make the API request\n",
    "    response = requests.get(base_url, params=params)\n",
    "    data = json.loads(response.text)\n",
    "\n",
    "    # Parse the search results\n",
    "    items = data.get(\"items\", [])\n",
    "\n",
    "    # Extract the YouTube channel links\n",
    "    for item in items:\n",
    "        link = item.get(\"link\")\n",
    "        if link.startswith(\"https://www.youtube.com/channel/\"):\n",
    "            youtube_channels.append(link)\n",
    "\n",
    "    # Update the start parameter for the next API request\n",
    "    params[\"start\"] += len(items)\n",
    "\n",
    "# Save the results in JSON format\n",
    "with open(\"youtube_channels.json\", \"w\") as file:\n",
    "    json.dump(youtube_channels, file)\n",
    "\n",
    "# Save the results in CSV format\n",
    "with open(\"youtube_channels.csv\", \"w\", newline=\"\") as file:\n",
    "    writer = csv.writer(file)\n",
    "    writer.writerow([\"Channel Link\"])\n",
    "    writer.writerows([[link] for link in youtube_channels])\n",
    "\n",
    "print(\"Scraping complete. Results saved in 'youtube_channels.json' and 'youtube_channels.csv'.\")\n"
   ]
  },
  {
   "cell_type": "code",
   "execution_count": null,
   "id": "82e9fa1c",
   "metadata": {},
   "outputs": [],
   "source": []
  }
 ],
 "metadata": {
  "kernelspec": {
   "display_name": "Python 3 (ipykernel)",
   "language": "python",
   "name": "python3"
  },
  "language_info": {
   "codemirror_mode": {
    "name": "ipython",
    "version": 3
   },
   "file_extension": ".py",
   "mimetype": "text/x-python",
   "name": "python",
   "nbconvert_exporter": "python",
   "pygments_lexer": "ipython3",
   "version": "3.10.6"
  },
  "varInspector": {
   "cols": {
    "lenName": 16,
    "lenType": 16,
    "lenVar": 40
   },
   "kernels_config": {
    "python": {
     "delete_cmd_postfix": "",
     "delete_cmd_prefix": "del ",
     "library": "var_list.py",
     "varRefreshCmd": "print(var_dic_list())"
    },
    "r": {
     "delete_cmd_postfix": ") ",
     "delete_cmd_prefix": "rm(",
     "library": "var_list.r",
     "varRefreshCmd": "cat(var_dic_list()) "
    }
   },
   "types_to_exclude": [
    "module",
    "function",
    "builtin_function_or_method",
    "instance",
    "_Feature"
   ],
   "window_display": false
  }
 },
 "nbformat": 4,
 "nbformat_minor": 5
}
