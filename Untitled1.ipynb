{
 "cells": [
  {
   "cell_type": "code",
   "execution_count": 1,
   "id": "eaf2355f",
   "metadata": {
    "ExecuteTime": {
     "end_time": "2023-07-31T07:12:01.757394Z",
     "start_time": "2023-07-31T07:12:01.268831Z"
    }
   },
   "outputs": [],
   "source": [
    "import matplotlib.pyplot as plt\n",
    "\n",
    "from skimage import data\n",
    "from skimage.exposure import rescale_intensity\n",
    "\n",
    "image = data.moon()\n",
    "# Rescale image intensity so that we can see dim features.\n",
    "image = rescale_intensity(image, in_range=(50, 200))"
   ]
  },
  {
   "cell_type": "code",
   "execution_count": 2,
   "id": "bb712134",
   "metadata": {
    "ExecuteTime": {
     "end_time": "2023-07-31T07:12:32.315931Z",
     "start_time": "2023-07-31T07:12:32.303284Z"
    }
   },
   "outputs": [
    {
     "data": {
      "text/plain": [
       "array([[112, 112, 122, ...,  73,  78,  78],\n",
       "       [112, 112, 122, ...,  73,  78,  78],\n",
       "       [112, 112, 122, ...,  73,  78,  78],\n",
       "       ...,\n",
       "       [100, 100, 105, ..., 113, 112, 112],\n",
       "       [108, 108, 107, ..., 115, 115, 115],\n",
       "       [108, 108, 107, ..., 115, 115, 115]], dtype=uint8)"
      ]
     },
     "execution_count": 2,
     "metadata": {},
     "output_type": "execute_result"
    }
   ],
   "source": [
    "image"
   ]
  }
 ],
 "metadata": {
  "kernelspec": {
   "display_name": "Python 3 (ipykernel)",
   "language": "python",
   "name": "python3"
  },
  "language_info": {
   "codemirror_mode": {
    "name": "ipython",
    "version": 3
   },
   "file_extension": ".py",
   "mimetype": "text/x-python",
   "name": "python",
   "nbconvert_exporter": "python",
   "pygments_lexer": "ipython3",
   "version": "3.10.6"
  },
  "varInspector": {
   "cols": {
    "lenName": 16,
    "lenType": 16,
    "lenVar": 40
   },
   "kernels_config": {
    "python": {
     "delete_cmd_postfix": "",
     "delete_cmd_prefix": "del ",
     "library": "var_list.py",
     "varRefreshCmd": "print(var_dic_list())"
    },
    "r": {
     "delete_cmd_postfix": ") ",
     "delete_cmd_prefix": "rm(",
     "library": "var_list.r",
     "varRefreshCmd": "cat(var_dic_list()) "
    }
   },
   "types_to_exclude": [
    "module",
    "function",
    "builtin_function_or_method",
    "instance",
    "_Feature"
   ],
   "window_display": false
  }
 },
 "nbformat": 4,
 "nbformat_minor": 5
}
