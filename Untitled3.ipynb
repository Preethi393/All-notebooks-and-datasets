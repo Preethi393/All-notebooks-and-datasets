{
 "cells": [
  {
   "cell_type": "markdown",
   "id": "4787f440",
   "metadata": {},
   "source": [
    "#### Complete the lambda map function: given a array such as [[1,2,3,-1,2],[2,4,-3]] take the square of all the non-negative numbers in the two arrays. The output is suppose to be:\n",
    "- [1,4,9,4]\n",
    "\n",
    "- [4,16]\n",
    "\n",
    "#### Additionally, the array will also contain an additional number at the beginning of the array which is the length of the array. So in the above example, the length is 2 so the final array that will be passed through the function will be [2, [1,2,3,-1,2],[2,4,-3]]. (We don't want to take the square of the initial number, in this case 2)\n",
    "\n",
    "#### def lambdamap(arr):\n",
    "\n",
    "####    final = map(\n",
    "\n",
    " #write your lambda function here\n",
    "\n",
    "####    , arr)\n",
    "    \n",
    "#### return final\n",
    "##### create a lambda function within the map that creates the desired output."
   ]
  },
  {
   "cell_type": "code",
   "execution_count": 1,
   "id": "cdce8695",
   "metadata": {
    "ExecuteTime": {
     "end_time": "2023-08-24T04:04:26.673692Z",
     "start_time": "2023-08-24T04:04:26.649842Z"
    }
   },
   "outputs": [
    {
     "data": {
      "text/plain": [
       "<function __main__.<lambda>(i)>"
      ]
     },
     "execution_count": 1,
     "metadata": {},
     "output_type": "execute_result"
    }
   ],
   "source": [
    "lambda i: [n**2 for n in i if n > 0] if isinstance(i, list) else i"
   ]
  },
  {
   "cell_type": "markdown",
   "id": "73c7b1dc",
   "metadata": {},
   "source": [
    "#### I am required to make a FancyTuple class and optionally pass five values as I want, the FancyTuple class should return a specific value when accessed, for example when I pass:\n",
    "\n",
    "#### FancyTuple('dog','cat').first , it should return dog as dog is the first value passed.\n",
    "#### FancyTuple('dog','eagle','mouse).third should return mouse as mouse is the third element passed.\n",
    "#### However when a non-initialized variable is accessed it should Raise an exception of variable not defined, example:\n",
    "\n",
    "#### FancyTuple('dog','cat').fifth , it returns an Exception because fifth has not been defined now."
   ]
  },
  {
   "cell_type": "code",
   "execution_count": 2,
   "id": "669dbfee",
   "metadata": {
    "ExecuteTime": {
     "end_time": "2023-08-24T04:04:26.683733Z",
     "start_time": "2023-08-24T04:04:26.677328Z"
    }
   },
   "outputs": [],
   "source": [
    "class FancyTuple:\n",
    "    def __init__(self, first = None, second = None, third = None, fourth = None, fifth = None):\n",
    "        self.first = first\n",
    "        self.second = second\n",
    "        self.third = third\n",
    "        self.fourth = fourth\n",
    "        self.fifth = fifth\n",
    "    \n",
    "    def __getattribute__(self, attr):\n",
    "        temp = object.__getattribute__(self,attr) \n",
    "        if temp == None:\n",
    "            raise Exception(\"Not defined\")\n",
    "        else:\n",
    "            return temp\n",
    "        \n",
    "    def __getattr__(self, attr):\n",
    "        raise AttributeError(\"Non-existing attribute\")\n",
    "\n",
    "    def __str__(self):\n",
    "        return f'{self.first} {self.second} {self.third} {self.fourth} {self.fifth}'"
   ]
  },
  {
   "cell_type": "code",
   "execution_count": 3,
   "id": "7e2bfa86",
   "metadata": {
    "ExecuteTime": {
     "end_time": "2023-08-24T04:04:26.772131Z",
     "start_time": "2023-08-24T04:04:26.686358Z"
    }
   },
   "outputs": [
    {
     "name": "stdout",
     "output_type": "stream",
     "text": [
      "dog eagle mouse foo bar\n",
      "bar\n"
     ]
    },
    {
     "ename": "AttributeError",
     "evalue": "Non-existing attribute",
     "output_type": "error",
     "traceback": [
      "\u001b[0;31m---------------------------------------------------------------------------\u001b[0m",
      "\u001b[0;31mAttributeError\u001b[0m                            Traceback (most recent call last)",
      "\u001b[0;32m/tmp/ipykernel_5660/404384055.py\u001b[0m in \u001b[0;36m<module>\u001b[0;34m\u001b[0m\n\u001b[1;32m      2\u001b[0m \u001b[0mprint\u001b[0m\u001b[0;34m(\u001b[0m\u001b[0mmyObject\u001b[0m\u001b[0;34m)\u001b[0m\u001b[0;34m\u001b[0m\u001b[0;34m\u001b[0m\u001b[0m\n\u001b[1;32m      3\u001b[0m \u001b[0mprint\u001b[0m\u001b[0;34m(\u001b[0m\u001b[0mmyObject\u001b[0m\u001b[0;34m.\u001b[0m\u001b[0mfifth\u001b[0m\u001b[0;34m)\u001b[0m\u001b[0;34m\u001b[0m\u001b[0;34m\u001b[0m\u001b[0m\n\u001b[0;32m----> 4\u001b[0;31m \u001b[0mprint\u001b[0m\u001b[0;34m(\u001b[0m\u001b[0mmyObject\u001b[0m\u001b[0;34m.\u001b[0m\u001b[0msixth\u001b[0m\u001b[0;34m)\u001b[0m\u001b[0;34m\u001b[0m\u001b[0;34m\u001b[0m\u001b[0m\n\u001b[0m",
      "\u001b[0;32m/tmp/ipykernel_5660/43808201.py\u001b[0m in \u001b[0;36m__getattr__\u001b[0;34m(self, attr)\u001b[0m\n\u001b[1;32m     15\u001b[0m \u001b[0;34m\u001b[0m\u001b[0m\n\u001b[1;32m     16\u001b[0m     \u001b[0;32mdef\u001b[0m \u001b[0m__getattr__\u001b[0m\u001b[0;34m(\u001b[0m\u001b[0mself\u001b[0m\u001b[0;34m,\u001b[0m \u001b[0mattr\u001b[0m\u001b[0;34m)\u001b[0m\u001b[0;34m:\u001b[0m\u001b[0;34m\u001b[0m\u001b[0;34m\u001b[0m\u001b[0m\n\u001b[0;32m---> 17\u001b[0;31m         \u001b[0;32mraise\u001b[0m \u001b[0mAttributeError\u001b[0m\u001b[0;34m(\u001b[0m\u001b[0;34m\"Non-existing attribute\"\u001b[0m\u001b[0;34m)\u001b[0m\u001b[0;34m\u001b[0m\u001b[0;34m\u001b[0m\u001b[0m\n\u001b[0m\u001b[1;32m     18\u001b[0m \u001b[0;34m\u001b[0m\u001b[0m\n\u001b[1;32m     19\u001b[0m     \u001b[0;32mdef\u001b[0m \u001b[0m__str__\u001b[0m\u001b[0;34m(\u001b[0m\u001b[0mself\u001b[0m\u001b[0;34m)\u001b[0m\u001b[0;34m:\u001b[0m\u001b[0;34m\u001b[0m\u001b[0;34m\u001b[0m\u001b[0m\n",
      "\u001b[0;31mAttributeError\u001b[0m: Non-existing attribute"
     ]
    }
   ],
   "source": [
    "myObject = FancyTuple('dog','eagle','mouse', 'foo', 'bar')\n",
    "print(myObject)\n",
    "print(myObject.fifth)\n",
    "print(myObject.sixth)"
   ]
  },
  {
   "cell_type": "code",
   "execution_count": 4,
   "id": "a78e5863",
   "metadata": {
    "ExecuteTime": {
     "end_time": "2023-08-24T04:04:36.924463Z",
     "start_time": "2023-08-24T04:04:36.914632Z"
    }
   },
   "outputs": [
    {
     "ename": "Exception",
     "evalue": "Not defined",
     "output_type": "error",
     "traceback": [
      "\u001b[0;31m---------------------------------------------------------------------------\u001b[0m",
      "\u001b[0;31mException\u001b[0m                                 Traceback (most recent call last)",
      "\u001b[0;32m/tmp/ipykernel_5660/1095120149.py\u001b[0m in \u001b[0;36m<module>\u001b[0;34m\u001b[0m\n\u001b[1;32m      1\u001b[0m \u001b[0mmyObject\u001b[0m \u001b[0;34m=\u001b[0m \u001b[0mFancyTuple\u001b[0m\u001b[0;34m(\u001b[0m\u001b[0;34m'dog'\u001b[0m\u001b[0;34m,\u001b[0m\u001b[0;34m'eagle'\u001b[0m\u001b[0;34m,\u001b[0m\u001b[0;34m'mouse'\u001b[0m\u001b[0;34m,\u001b[0m \u001b[0;34m'foo'\u001b[0m\u001b[0;34m)\u001b[0m\u001b[0;34m\u001b[0m\u001b[0;34m\u001b[0m\u001b[0m\n\u001b[0;32m----> 2\u001b[0;31m \u001b[0mprint\u001b[0m\u001b[0;34m(\u001b[0m\u001b[0mmyObject\u001b[0m\u001b[0;34m.\u001b[0m\u001b[0mfifth\u001b[0m\u001b[0;34m)\u001b[0m\u001b[0;34m\u001b[0m\u001b[0;34m\u001b[0m\u001b[0m\n\u001b[0m",
      "\u001b[0;32m/tmp/ipykernel_5660/43808201.py\u001b[0m in \u001b[0;36m__getattribute__\u001b[0;34m(self, attr)\u001b[0m\n\u001b[1;32m     10\u001b[0m         \u001b[0mtemp\u001b[0m \u001b[0;34m=\u001b[0m \u001b[0mobject\u001b[0m\u001b[0;34m.\u001b[0m\u001b[0m__getattribute__\u001b[0m\u001b[0;34m(\u001b[0m\u001b[0mself\u001b[0m\u001b[0;34m,\u001b[0m\u001b[0mattr\u001b[0m\u001b[0;34m)\u001b[0m\u001b[0;34m\u001b[0m\u001b[0;34m\u001b[0m\u001b[0m\n\u001b[1;32m     11\u001b[0m         \u001b[0;32mif\u001b[0m \u001b[0mtemp\u001b[0m \u001b[0;34m==\u001b[0m \u001b[0;32mNone\u001b[0m\u001b[0;34m:\u001b[0m\u001b[0;34m\u001b[0m\u001b[0;34m\u001b[0m\u001b[0m\n\u001b[0;32m---> 12\u001b[0;31m             \u001b[0;32mraise\u001b[0m \u001b[0mException\u001b[0m\u001b[0;34m(\u001b[0m\u001b[0;34m\"Not defined\"\u001b[0m\u001b[0;34m)\u001b[0m\u001b[0;34m\u001b[0m\u001b[0;34m\u001b[0m\u001b[0m\n\u001b[0m\u001b[1;32m     13\u001b[0m         \u001b[0;32melse\u001b[0m\u001b[0;34m:\u001b[0m\u001b[0;34m\u001b[0m\u001b[0;34m\u001b[0m\u001b[0m\n\u001b[1;32m     14\u001b[0m             \u001b[0;32mreturn\u001b[0m \u001b[0mtemp\u001b[0m\u001b[0;34m\u001b[0m\u001b[0;34m\u001b[0m\u001b[0m\n",
      "\u001b[0;31mException\u001b[0m: Not defined"
     ]
    }
   ],
   "source": [
    "myObject = FancyTuple('dog','eagle','mouse', 'foo')\n",
    "print(myObject.fifth)"
   ]
  },
  {
   "cell_type": "code",
   "execution_count": 5,
   "id": "35d6ceaa",
   "metadata": {
    "ExecuteTime": {
     "end_time": "2023-08-24T04:04:38.897950Z",
     "start_time": "2023-08-24T04:04:38.892476Z"
    }
   },
   "outputs": [
    {
     "name": "stdout",
     "output_type": "stream",
     "text": [
      "801141011127311011511697\n",
      "PrepInsta\n"
     ]
    }
   ],
   "source": [
    "s = \"796115110113721110141108\"\n",
    "s = s[::-1]\n",
    "print(s)\n",
    "i = 0\n",
    "res = \"\"\n",
    "while(i<len(s)-1):\n",
    "    x = s[i] + s[i+1]\n",
    "    if x == '32':\n",
    "        res = res + \" \"\n",
    "    elif int(x) in range(65,91) or int(x) in range(97,100):\n",
    "        res = res + chr(int(x))\n",
    "    elif i+2 < len(s):\n",
    "        x = x + s[i+2]\n",
    "        res = res + chr(int(x))\n",
    "        i += 1\n",
    "    i += 2\n",
    "\n",
    "print(res)"
   ]
  },
  {
   "cell_type": "code",
   "execution_count": 7,
   "id": "3f5445dd",
   "metadata": {
    "ExecuteTime": {
     "end_time": "2023-08-24T04:05:06.530479Z",
     "start_time": "2023-08-24T04:05:06.521240Z"
    }
   },
   "outputs": [
    {
     "name": "stdout",
     "output_type": "stream",
     "text": [
      "3\n"
     ]
    }
   ],
   "source": [
    "strg = 'PPPPPP@PPPP@PPPP$PPP'\n",
    "grps = strg.split(\"$\")\n",
    "min_lgt = float('inf')\n",
    "# print(grps)\n",
    "\n",
    "for grp in grps:\n",
    "    sub_grps = grp.split('@')\n",
    "    lgt = [len(sub_grp) for sub_grp in sub_grps]\n",
    "    min_lgt = min(min_lgt, min(lgt))\n",
    "    \n",
    "print(min_lgt)"
   ]
  },
  {
   "cell_type": "code",
   "execution_count": 2,
   "id": "18c97b32",
   "metadata": {
    "ExecuteTime": {
     "end_time": "2023-08-25T09:35:55.476686Z",
     "start_time": "2023-08-25T09:35:55.462985Z"
    }
   },
   "outputs": [
    {
     "name": "stdout",
     "output_type": "stream",
     "text": [
      "foofoofoo\n",
      "8\n"
     ]
    }
   ],
   "source": [
    "print(\"foo\"*3)\n",
    "print(2**3)"
   ]
  },
  {
   "cell_type": "code",
   "execution_count": 3,
   "id": "fff326e8",
   "metadata": {
    "ExecuteTime": {
     "end_time": "2023-08-25T09:36:22.854883Z",
     "start_time": "2023-08-25T09:36:22.808313Z"
    }
   },
   "outputs": [
    {
     "data": {
      "text/plain": [
       "-3.0"
      ]
     },
     "execution_count": 3,
     "metadata": {},
     "output_type": "execute_result"
    }
   ],
   "source": [
    "-4//1.5"
   ]
  },
  {
   "cell_type": "code",
   "execution_count": 5,
   "id": "32258bff",
   "metadata": {
    "ExecuteTime": {
     "end_time": "2023-08-25T10:00:21.846146Z",
     "start_time": "2023-08-25T10:00:21.832293Z"
    }
   },
   "outputs": [
    {
     "data": {
      "text/plain": [
       "[2, 2, 2]"
      ]
     },
     "execution_count": 5,
     "metadata": {},
     "output_type": "execute_result"
    }
   ],
   "source": [
    "for i in range(start):\n",
    "    if i%2 == 0:\n",
    "        print"
   ]
  },
  {
   "cell_type": "code",
   "execution_count": null,
   "id": "808e7a61",
   "metadata": {},
   "outputs": [],
   "source": []
  },
  {
   "cell_type": "code",
   "execution_count": null,
   "id": "52bbdfe4",
   "metadata": {},
   "outputs": [],
   "source": []
  },
  {
   "cell_type": "code",
   "execution_count": null,
   "id": "84a703b7",
   "metadata": {},
   "outputs": [],
   "source": []
  },
  {
   "cell_type": "code",
   "execution_count": null,
   "id": "eb916ede",
   "metadata": {},
   "outputs": [],
   "source": []
  },
  {
   "cell_type": "code",
   "execution_count": null,
   "id": "e1ec9f0f",
   "metadata": {},
   "outputs": [],
   "source": []
  }
 ],
 "metadata": {
  "kernelspec": {
   "display_name": "Python 3 (ipykernel)",
   "language": "python",
   "name": "python3"
  },
  "language_info": {
   "codemirror_mode": {
    "name": "ipython",
    "version": 3
   },
   "file_extension": ".py",
   "mimetype": "text/x-python",
   "name": "python",
   "nbconvert_exporter": "python",
   "pygments_lexer": "ipython3",
   "version": "3.10.12"
  },
  "varInspector": {
   "cols": {
    "lenName": 16,
    "lenType": 16,
    "lenVar": 40
   },
   "kernels_config": {
    "python": {
     "delete_cmd_postfix": "",
     "delete_cmd_prefix": "del ",
     "library": "var_list.py",
     "varRefreshCmd": "print(var_dic_list())"
    },
    "r": {
     "delete_cmd_postfix": ") ",
     "delete_cmd_prefix": "rm(",
     "library": "var_list.r",
     "varRefreshCmd": "cat(var_dic_list()) "
    }
   },
   "types_to_exclude": [
    "module",
    "function",
    "builtin_function_or_method",
    "instance",
    "_Feature"
   ],
   "window_display": false
  }
 },
 "nbformat": 4,
 "nbformat_minor": 5
}
