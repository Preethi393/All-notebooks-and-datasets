{
 "cells": [
  {
   "cell_type": "code",
   "execution_count": 5,
   "id": "b1fd3682",
   "metadata": {
    "ExecuteTime": {
     "end_time": "2023-08-25T09:00:10.365982Z",
     "start_time": "2023-08-25T09:00:10.344453Z"
    }
   },
   "outputs": [
    {
     "data": {
      "text/plain": [
       "-2.0"
      ]
     },
     "execution_count": 5,
     "metadata": {},
     "output_type": "execute_result"
    }
   ],
   "source": [
    "-4/1."
   ]
  },
  {
   "cell_type": "code",
   "execution_count": 1,
   "id": "12f6f3c7",
   "metadata": {
    "ExecuteTime": {
     "end_time": "2023-05-24T05:06:13.813821Z",
     "start_time": "2023-05-24T05:06:13.802040Z"
    }
   },
   "outputs": [],
   "source": [
    "old_list = [[1,2,3],[4,5,6],[7,8,'a']]\n",
    "new_list = old_list"
   ]
  },
  {
   "cell_type": "code",
   "execution_count": 2,
   "id": "f38bfdcd",
   "metadata": {
    "ExecuteTime": {
     "end_time": "2023-05-24T05:06:13.829832Z",
     "start_time": "2023-05-24T05:06:13.817674Z"
    }
   },
   "outputs": [
    {
     "data": {
      "text/plain": [
       "[[1, 2, 3], [4, 5, 6], [7, 8, 'a']]"
      ]
     },
     "execution_count": 2,
     "metadata": {},
     "output_type": "execute_result"
    }
   ],
   "source": [
    "new_list"
   ]
  },
  {
   "cell_type": "code",
   "execution_count": 3,
   "id": "9a4baa2f",
   "metadata": {
    "ExecuteTime": {
     "end_time": "2023-05-24T05:06:13.837712Z",
     "start_time": "2023-05-24T05:06:13.832720Z"
    }
   },
   "outputs": [],
   "source": [
    "new_list[2][2] = 9"
   ]
  },
  {
   "cell_type": "code",
   "execution_count": 4,
   "id": "814e20ef",
   "metadata": {
    "ExecuteTime": {
     "end_time": "2023-05-24T05:06:13.849404Z",
     "start_time": "2023-05-24T05:06:13.842085Z"
    }
   },
   "outputs": [
    {
     "name": "stdout",
     "output_type": "stream",
     "text": [
      "Old List:  [[1, 2, 3], [4, 5, 6], [7, 8, 9]]\n",
      "ID of Old List:  140528518970624\n"
     ]
    }
   ],
   "source": [
    "print(\"Old List: \", old_list)\n",
    "print(\"ID of Old List: \", id(old_list))"
   ]
  },
  {
   "cell_type": "code",
   "execution_count": 5,
   "id": "729165a6",
   "metadata": {
    "ExecuteTime": {
     "end_time": "2023-05-24T05:06:13.861192Z",
     "start_time": "2023-05-24T05:06:13.855487Z"
    }
   },
   "outputs": [
    {
     "name": "stdout",
     "output_type": "stream",
     "text": [
      "New List:  [[1, 2, 3], [4, 5, 6], [7, 8, 9]]\n",
      "ID of New List:  140528518970624\n"
     ]
    }
   ],
   "source": [
    "print(\"New List: \", new_list)\n",
    "print(\"ID of New List: \", id(new_list))"
   ]
  },
  {
   "cell_type": "code",
   "execution_count": 6,
   "id": "325a2a30",
   "metadata": {
    "ExecuteTime": {
     "end_time": "2023-05-24T05:06:13.876589Z",
     "start_time": "2023-05-24T05:06:13.868522Z"
    }
   },
   "outputs": [
    {
     "name": "stdout",
     "output_type": "stream",
     "text": [
      "Old list: [[1, 2, 3], [4, 5, 6], [7, 8, 9]]\n",
      "New list: [[1, 2, 3], [4, 5, 6], [7, 8, 9]]\n"
     ]
    }
   ],
   "source": [
    "import copy\n",
    "old_list = [[1,2,3],[4,5,6],[7,8,9]]\n",
    "new_list = copy.copy(old_list)\n",
    "\n",
    "print(\"Old list:\", old_list)\n",
    "print(\"New list:\", new_list)"
   ]
  },
  {
   "cell_type": "code",
   "execution_count": 7,
   "id": "cea71ca5",
   "metadata": {
    "ExecuteTime": {
     "end_time": "2023-05-24T05:06:13.892901Z",
     "start_time": "2023-05-24T05:06:13.881580Z"
    }
   },
   "outputs": [
    {
     "name": "stdout",
     "output_type": "stream",
     "text": [
      "Old list: [[1, 1, 1], [2, 2, 2], [3, 3, 3], [4, 4, 4]]\n",
      "New list: [[1, 1, 1], [2, 2, 2], [3, 3, 3]]\n"
     ]
    }
   ],
   "source": [
    "import copy\n",
    "\n",
    "old_list = [[1, 1, 1], [2, 2, 2], [3, 3, 3]]\n",
    "new_list = copy.copy(old_list)\n",
    "\n",
    "old_list.append([4, 4, 4])\n",
    "\n",
    "print(\"Old list:\", old_list)\n",
    "print(\"New list:\", new_list)"
   ]
  },
  {
   "cell_type": "code",
   "execution_count": 8,
   "id": "93f4ecc5",
   "metadata": {
    "ExecuteTime": {
     "end_time": "2023-05-24T05:06:13.907090Z",
     "start_time": "2023-05-24T05:06:13.898513Z"
    }
   },
   "outputs": [
    {
     "name": "stdout",
     "output_type": "stream",
     "text": [
      "Old list: [[1, 1, 1], [2, 'AA', 2], [3, 3, 3]]\n",
      "New list: [[1, 1, 1], [2, 'AA', 2], [3, 3, 3]]\n"
     ]
    }
   ],
   "source": [
    "import copy\n",
    "\n",
    "old_list = [[1, 1, 1], [2, 2, 2], [3, 3, 3]]\n",
    "new_list = copy.copy(old_list)\n",
    "\n",
    "old_list[1][1] = 'AA'\n",
    "\n",
    "print(\"Old list:\", old_list)\n",
    "print(\"New list:\", new_list)"
   ]
  },
  {
   "cell_type": "code",
   "execution_count": null,
   "id": "1f367c45",
   "metadata": {},
   "outputs": [],
   "source": []
  },
  {
   "cell_type": "code",
   "execution_count": 9,
   "id": "9aec4e20",
   "metadata": {
    "ExecuteTime": {
     "end_time": "2023-05-24T05:06:13.921399Z",
     "start_time": "2023-05-24T05:06:13.912085Z"
    }
   },
   "outputs": [
    {
     "name": "stdout",
     "output_type": "stream",
     "text": [
      "Old list: [[1, 1, 1], [2, 2, 2], [3, 3, 3]]\n",
      "New list: [[1, 1, 1], [2, 2, 2], [3, 3, 3]]\n"
     ]
    }
   ],
   "source": [
    "import copy\n",
    "\n",
    "old_list = [[1, 1, 1], [2, 2, 2], [3, 3, 3]]\n",
    "new_list = copy.deepcopy(old_list)\n",
    "\n",
    "print(\"Old list:\", old_list)\n",
    "print(\"New list:\", new_list)"
   ]
  },
  {
   "cell_type": "code",
   "execution_count": 10,
   "id": "fc2e1ff8",
   "metadata": {
    "ExecuteTime": {
     "end_time": "2023-05-24T05:06:13.936478Z",
     "start_time": "2023-05-24T05:06:13.925597Z"
    }
   },
   "outputs": [
    {
     "name": "stdout",
     "output_type": "stream",
     "text": [
      "Old list: [[1, 1, 1], ['BB', 2, 2], [3, 3, 3]]\n",
      "New list: [[1, 1, 1], [2, 2, 2], [3, 3, 3]]\n"
     ]
    }
   ],
   "source": [
    "import copy\n",
    "\n",
    "old_list = [[1, 1, 1], [2, 2, 2], [3, 3, 3]]\n",
    "new_list = copy.deepcopy(old_list)\n",
    "\n",
    "old_list[1][0] = 'BB'\n",
    "\n",
    "print(\"Old list:\", old_list)\n",
    "print(\"New list:\", new_list)"
   ]
  },
  {
   "cell_type": "code",
   "execution_count": 15,
   "id": "3c5a8c89",
   "metadata": {
    "ExecuteTime": {
     "end_time": "2023-05-24T05:33:57.819358Z",
     "start_time": "2023-05-24T05:33:57.802999Z"
    }
   },
   "outputs": [
    {
     "name": "stdout",
     "output_type": "stream",
     "text": [
      "<list_iterator object at 0x7fcf327083d0>\n"
     ]
    }
   ],
   "source": [
    "num = [1,4,9]\n",
    "dir(num)\n",
    "print(num.__iter__())"
   ]
  },
  {
   "cell_type": "code",
   "execution_count": 20,
   "id": "ff938cdd",
   "metadata": {
    "ExecuteTime": {
     "end_time": "2023-05-24T05:44:41.391127Z",
     "start_time": "2023-05-24T05:44:41.382579Z"
    }
   },
   "outputs": [
    {
     "name": "stdout",
     "output_type": "stream",
     "text": [
      "1\n",
      "2\n",
      "4\n"
     ]
    }
   ],
   "source": [
    "numbers = [1,2,4]\n",
    "value = numbers.__iter__()\n",
    "\n",
    "item1 = value.__next__()\n",
    "print(item1)\n",
    "\n",
    "item2 = value.__next__()\n",
    "print(item2)\n",
    "\n",
    "item3 = value.__next__()\n",
    "print(item3)\n"
   ]
  },
  {
   "cell_type": "code",
   "execution_count": 34,
   "id": "6cee1a78",
   "metadata": {
    "ExecuteTime": {
     "end_time": "2023-05-24T05:49:20.378794Z",
     "start_time": "2023-05-24T05:49:20.374861Z"
    }
   },
   "outputs": [
    {
     "name": "stdout",
     "output_type": "stream",
     "text": [
      "10\n",
      "20\n",
      "25\n"
     ]
    }
   ],
   "source": [
    "my_list = [10,20,25]\n",
    "iterator = iter(my_list)\n",
    "print(next(iterator))\n",
    "print(next(iterator))\n",
    "print(next(iterator))\n"
   ]
  },
  {
   "cell_type": "code",
   "execution_count": 37,
   "id": "e522a794",
   "metadata": {
    "ExecuteTime": {
     "end_time": "2023-05-24T05:52:47.057021Z",
     "start_time": "2023-05-24T05:52:47.053079Z"
    }
   },
   "outputs": [
    {
     "name": "stdout",
     "output_type": "stream",
     "text": [
      "1\n",
      "2\n",
      "3\n",
      "4\n",
      "5\n"
     ]
    }
   ],
   "source": [
    "my_list = [1,2,3,4,5]\n",
    "iterator = iter(my_list)\n",
    "\n",
    "for i in iterator:\n",
    "    print(i)"
   ]
  },
  {
   "cell_type": "code",
   "execution_count": 35,
   "id": "27e18811",
   "metadata": {
    "ExecuteTime": {
     "end_time": "2023-05-24T05:50:22.837553Z",
     "start_time": "2023-05-24T05:50:22.829020Z"
    }
   },
   "outputs": [
    {
     "name": "stdout",
     "output_type": "stream",
     "text": [
      "1\n",
      "2\n",
      "5\n"
     ]
    }
   ],
   "source": [
    "my_tuple = (1,2,5)\n",
    "iterator = iter(my_tuple)\n",
    "print(next(iterator))\n",
    "print(next(iterator))\n",
    "print(next(iterator))"
   ]
  },
  {
   "cell_type": "code",
   "execution_count": 41,
   "id": "7e28b82c",
   "metadata": {
    "ExecuteTime": {
     "end_time": "2023-05-24T06:13:42.633213Z",
     "start_time": "2023-05-24T06:13:42.627272Z"
    }
   },
   "outputs": [
    {
     "name": "stdout",
     "output_type": "stream",
     "text": [
      "2\n",
      "4\n",
      "6\n",
      "8\n"
     ]
    }
   ],
   "source": [
    "def even_generator():\n",
    "    n = 0 \n",
    "    n = n + 2\n",
    "    yield n\n",
    "    \n",
    "    n = n + 2\n",
    "    yield n\n",
    "    \n",
    "    n = n + 2\n",
    "    yield n \n",
    "    \n",
    "    n = n + 2\n",
    "    yield n\n",
    "    \n",
    "num = even_generator()\n",
    "print(next(num))\n",
    "print(next(num))\n",
    "print(next(num))\n",
    "print(next(num))\n"
   ]
  },
  {
   "cell_type": "code",
   "execution_count": 52,
   "id": "baa0000a",
   "metadata": {
    "ExecuteTime": {
     "end_time": "2023-05-24T06:22:51.131340Z",
     "start_time": "2023-05-24T06:22:51.121879Z"
    }
   },
   "outputs": [
    {
     "name": "stdout",
     "output_type": "stream",
     "text": [
      "4\n",
      "6\n",
      "8\n"
     ]
    }
   ],
   "source": [
    "def even_generator(max):\n",
    "    n = 2\n",
    "    while n <= max:\n",
    "        n = n + 2\n",
    "        yield n\n",
    "\n",
    "    \n",
    "num = even_generator(6)\n",
    "print(next(num))\n",
    "print(next(num))\n",
    "print(next(num))"
   ]
  },
  {
   "cell_type": "code",
   "execution_count": 56,
   "id": "57f356d4",
   "metadata": {
    "ExecuteTime": {
     "end_time": "2023-05-24T09:35:14.999747Z",
     "start_time": "2023-05-24T09:35:14.988760Z"
    }
   },
   "outputs": [
    {
     "name": "stdout",
     "output_type": "stream",
     "text": [
      "Hi Preethi\n"
     ]
    }
   ],
   "source": [
    "def greet(name):\n",
    "    def display_name():\n",
    "        print(\"Hi\", name)\n",
    "    display_name()\n",
    "    \n",
    "greet(\"Preethi\")"
   ]
  },
  {
   "cell_type": "code",
   "execution_count": 61,
   "id": "128dd5dc",
   "metadata": {
    "ExecuteTime": {
     "end_time": "2023-05-24T09:39:50.996139Z",
     "start_time": "2023-05-24T09:39:50.989710Z"
    }
   },
   "outputs": [
    {
     "name": "stdout",
     "output_type": "stream",
     "text": [
      "Hi Preethi\n"
     ]
    }
   ],
   "source": [
    "def greet():\n",
    "    name = \"Preethi\"\n",
    "    return lambda : \"Hi \" + name\n",
    "message = greet()\n",
    "print(message())"
   ]
  },
  {
   "cell_type": "code",
   "execution_count": null,
   "id": "1d44fa39",
   "metadata": {},
   "outputs": [],
   "source": []
  }
 ],
 "metadata": {
  "kernelspec": {
   "display_name": "Python 3 (ipykernel)",
   "language": "python",
   "name": "python3"
  },
  "language_info": {
   "codemirror_mode": {
    "name": "ipython",
    "version": 3
   },
   "file_extension": ".py",
   "mimetype": "text/x-python",
   "name": "python",
   "nbconvert_exporter": "python",
   "pygments_lexer": "ipython3",
   "version": "3.10.12"
  },
  "varInspector": {
   "cols": {
    "lenName": 16,
    "lenType": 16,
    "lenVar": 40
   },
   "kernels_config": {
    "python": {
     "delete_cmd_postfix": "",
     "delete_cmd_prefix": "del ",
     "library": "var_list.py",
     "varRefreshCmd": "print(var_dic_list())"
    },
    "r": {
     "delete_cmd_postfix": ") ",
     "delete_cmd_prefix": "rm(",
     "library": "var_list.r",
     "varRefreshCmd": "cat(var_dic_list()) "
    }
   },
   "types_to_exclude": [
    "module",
    "function",
    "builtin_function_or_method",
    "instance",
    "_Feature"
   ],
   "window_display": false
  }
 },
 "nbformat": 4,
 "nbformat_minor": 5
}
