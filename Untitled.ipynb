{
 "cells": [
  {
   "cell_type": "code",
   "execution_count": 3,
   "id": "bd028c1d",
   "metadata": {
    "ExecuteTime": {
     "end_time": "2023-05-22T11:37:21.667231Z",
     "start_time": "2023-05-22T11:37:21.661996Z"
    }
   },
   "outputs": [
    {
     "name": "stdout",
     "output_type": "stream",
     "text": [
      "{'P': 1, 'r': 2, 'e': 2, 't': 1, 'h': 2, 'i': 2, ' ': 1, 'G': 1, 'o': 1, 'p': 1, 'a': 3, 'l': 1, 'k': 1, 's': 1, 'n': 2}\n"
     ]
    }
   ],
   "source": [
    "name = \"Preethi Gopalakrishnan\"\n",
    "num = dict()\n",
    "for i, val in enumerate(name):\n",
    "    if val in num:\n",
    "        num[val] = num[val]+1\n",
    "    else:\n",
    "        num[val] = 1\n",
    "print(num)"
   ]
  },
  {
   "cell_type": "code",
   "execution_count": 6,
   "id": "605fb103",
   "metadata": {
    "ExecuteTime": {
     "end_time": "2023-05-22T11:46:10.030104Z",
     "start_time": "2023-05-22T11:46:10.023396Z"
    }
   },
   "outputs": [
    {
     "name": "stdout",
     "output_type": "stream",
     "text": [
      "['P', 'r', 'e', 't', 'h', 'i', ' ', 'G', 'o', 'p', 'a', 'l', 'k', 's', 'n']\n"
     ]
    }
   ],
   "source": [
    "name = \"Preethi Gopalakrishnan\"\n",
    "char = []\n",
    "for i in name:\n",
    "    if i not in char:\n",
    "        char.append(i)\n",
    "print(char)"
   ]
  }
 ],
 "metadata": {
  "kernelspec": {
   "display_name": "Python 3 (ipykernel)",
   "language": "python",
   "name": "python3"
  },
  "language_info": {
   "codemirror_mode": {
    "name": "ipython",
    "version": 3
   },
   "file_extension": ".py",
   "mimetype": "text/x-python",
   "name": "python",
   "nbconvert_exporter": "python",
   "pygments_lexer": "ipython3",
   "version": "3.10.6"
  },
  "varInspector": {
   "cols": {
    "lenName": 16,
    "lenType": 16,
    "lenVar": 40
   },
   "kernels_config": {
    "python": {
     "delete_cmd_postfix": "",
     "delete_cmd_prefix": "del ",
     "library": "var_list.py",
     "varRefreshCmd": "print(var_dic_list())"
    },
    "r": {
     "delete_cmd_postfix": ") ",
     "delete_cmd_prefix": "rm(",
     "library": "var_list.r",
     "varRefreshCmd": "cat(var_dic_list()) "
    }
   },
   "types_to_exclude": [
    "module",
    "function",
    "builtin_function_or_method",
    "instance",
    "_Feature"
   ],
   "window_display": false
  }
 },
 "nbformat": 4,
 "nbformat_minor": 5
}
